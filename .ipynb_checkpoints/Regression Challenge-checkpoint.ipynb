{
 "cells": [
  {
   "cell_type": "markdown",
   "metadata": {},
   "source": [
    "# Simple housing model\n",
    "\n",
    "Your task is to implement a simple model to predict home prices for a small real estate transactions dataset.\n",
    "\n",
    "Instructions:\n",
    "Predict the close price as of list date given the other attributes.\n",
    "Build separate models with and without ListPrice.\n",
    "Feel free to join the dataset to any other data sources, so long as they are not leaky.\n",
    "\n",
    "Questions:\n",
    "How would you improve your model?"
   ]
  },
  {
   "cell_type": "markdown",
   "metadata": {},
   "source": [
    "## Load Libraries"
   ]
  },
  {
   "cell_type": "code",
   "execution_count": 340,
   "metadata": {
    "collapsed": false
   },
   "outputs": [],
   "source": [
    "%matplotlib inline\n",
    "\n",
    "import numpy as np\n",
    "import pandas as pd\n",
    "import datetime as dt\n",
    "import statistics as stat\n",
    "\n",
    "from sklearn.ensemble import RandomForestRegressor\n",
    "from sklearn.cross_validation import train_test_split\n",
    "from sklearn import preprocessing  # or one-hot-outlier\n",
    "#from sklearn.metrics import classification_report\n",
    "#from sklearn.metrics import (brier_score_loss, precision_score, recall_score,\n",
    "#                             f1_score)\n",
    "from sklearn.metrics import mean_squared_error\n",
    "\n",
    "import matplotlib.pyplot as plt"
   ]
  },
  {
   "cell_type": "code",
   "execution_count": 341,
   "metadata": {
    "collapsed": false
   },
   "outputs": [],
   "source": [
    "## Load Data Set\n",
    "df = pd.read_csv('data_sci_snippet.csv')  # , header=0\n",
    "#df.head(3)"
   ]
  },
  {
   "cell_type": "markdown",
   "metadata": {},
   "source": [
    "## Preprocessing"
   ]
  },
  {
   "cell_type": "code",
   "execution_count": 342,
   "metadata": {
    "collapsed": false
   },
   "outputs": [],
   "source": [
    "## Conver Dates: str to Datetime\n",
    "df['ListDate'] = pd.to_datetime(df['ListDate'])\n",
    "df['CloseDate'] = pd.to_datetime(df['CloseDate'])\n",
    "## Convert Dates: datetime to ordinals\n",
    "df['CloseDateInt'] = df['CloseDate'].apply(lambda x: x.toordinal())\n",
    "df['ListDateInt'] = df['ListDate'].apply(lambda x: x.toordinal())\n",
    "\n",
    "##Add TimeToClose  # As time to close -> oo, ClosePrice decreases\n",
    "df['TimeToClose'] = df['CloseDateInt'] - df['ListDateInt']"
   ]
  },
  {
   "cell_type": "code",
   "execution_count": 343,
   "metadata": {
    "collapsed": false
   },
   "outputs": [
    {
     "data": {
      "text/html": [
       "<div>\n",
       "<table border=\"1\" class=\"dataframe\">\n",
       "  <thead>\n",
       "    <tr style=\"text-align: right;\">\n",
       "      <th></th>\n",
       "      <th>ListingId</th>\n",
       "      <th>LivingArea</th>\n",
       "      <th>NumBedrooms</th>\n",
       "      <th>NumBaths</th>\n",
       "      <th>Pool</th>\n",
       "      <th>ExteriorStories</th>\n",
       "      <th>ListDate</th>\n",
       "      <th>ListPrice</th>\n",
       "      <th>GeoLat</th>\n",
       "      <th>GeoLon</th>\n",
       "      <th>...</th>\n",
       "      <th>Pool_None</th>\n",
       "      <th>Pool_Private</th>\n",
       "      <th>DwellingType_Apartment Style/Flat</th>\n",
       "      <th>DwellingType_Gemini/Twin Home</th>\n",
       "      <th>DwellingType_Loft Style</th>\n",
       "      <th>DwellingType_Mfg/Mobile Housing</th>\n",
       "      <th>DwellingType_Modular/Pre-Fab</th>\n",
       "      <th>DwellingType_Patio Home</th>\n",
       "      <th>DwellingType_Single Family - Detached</th>\n",
       "      <th>DwellingType_Townhouse</th>\n",
       "    </tr>\n",
       "  </thead>\n",
       "  <tbody>\n",
       "    <tr>\n",
       "      <th>0</th>\n",
       "      <td>5077399</td>\n",
       "      <td>3054</td>\n",
       "      <td>4</td>\n",
       "      <td>2.5</td>\n",
       "      <td>Private</td>\n",
       "      <td>1</td>\n",
       "      <td>2014-03-04</td>\n",
       "      <td>675000</td>\n",
       "      <td>33.593239</td>\n",
       "      <td>-111.961056</td>\n",
       "      <td>...</td>\n",
       "      <td>0</td>\n",
       "      <td>1</td>\n",
       "      <td>0</td>\n",
       "      <td>0</td>\n",
       "      <td>0</td>\n",
       "      <td>0</td>\n",
       "      <td>0</td>\n",
       "      <td>0</td>\n",
       "      <td>1</td>\n",
       "      <td>0</td>\n",
       "    </tr>\n",
       "    <tr>\n",
       "      <th>1</th>\n",
       "      <td>5077408</td>\n",
       "      <td>2230</td>\n",
       "      <td>4</td>\n",
       "      <td>2.0</td>\n",
       "      <td>Private</td>\n",
       "      <td>1</td>\n",
       "      <td>2014-03-01</td>\n",
       "      <td>475000</td>\n",
       "      <td>33.650984</td>\n",
       "      <td>-111.963151</td>\n",
       "      <td>...</td>\n",
       "      <td>0</td>\n",
       "      <td>1</td>\n",
       "      <td>0</td>\n",
       "      <td>0</td>\n",
       "      <td>0</td>\n",
       "      <td>0</td>\n",
       "      <td>0</td>\n",
       "      <td>0</td>\n",
       "      <td>1</td>\n",
       "      <td>0</td>\n",
       "    </tr>\n",
       "    <tr>\n",
       "      <th>2</th>\n",
       "      <td>5077486</td>\n",
       "      <td>1601</td>\n",
       "      <td>3</td>\n",
       "      <td>2.0</td>\n",
       "      <td>Private</td>\n",
       "      <td>1</td>\n",
       "      <td>2014-03-01</td>\n",
       "      <td>279900</td>\n",
       "      <td>33.692122</td>\n",
       "      <td>-112.038019</td>\n",
       "      <td>...</td>\n",
       "      <td>0</td>\n",
       "      <td>1</td>\n",
       "      <td>0</td>\n",
       "      <td>0</td>\n",
       "      <td>0</td>\n",
       "      <td>0</td>\n",
       "      <td>0</td>\n",
       "      <td>0</td>\n",
       "      <td>1</td>\n",
       "      <td>0</td>\n",
       "    </tr>\n",
       "  </tbody>\n",
       "</table>\n",
       "<p>3 rows × 30 columns</p>\n",
       "</div>"
      ],
      "text/plain": [
       "   ListingId  LivingArea  NumBedrooms  NumBaths     Pool  ExteriorStories  \\\n",
       "0    5077399        3054            4       2.5  Private                1   \n",
       "1    5077408        2230            4       2.0  Private                1   \n",
       "2    5077486        1601            3       2.0  Private                1   \n",
       "\n",
       "    ListDate  ListPrice     GeoLat      GeoLon           ...            \\\n",
       "0 2014-03-04     675000  33.593239 -111.961056           ...             \n",
       "1 2014-03-01     475000  33.650984 -111.963151           ...             \n",
       "2 2014-03-01     279900  33.692122 -112.038019           ...             \n",
       "\n",
       "  Pool_None Pool_Private  DwellingType_Apartment Style/Flat  \\\n",
       "0         0            1                                  0   \n",
       "1         0            1                                  0   \n",
       "2         0            1                                  0   \n",
       "\n",
       "  DwellingType_Gemini/Twin Home DwellingType_Loft Style  \\\n",
       "0                             0                       0   \n",
       "1                             0                       0   \n",
       "2                             0                       0   \n",
       "\n",
       "   DwellingType_Mfg/Mobile Housing  DwellingType_Modular/Pre-Fab  \\\n",
       "0                                0                             0   \n",
       "1                                0                             0   \n",
       "2                                0                             0   \n",
       "\n",
       "   DwellingType_Patio Home  DwellingType_Single Family - Detached  \\\n",
       "0                        0                                      1   \n",
       "1                        0                                      1   \n",
       "2                        0                                      1   \n",
       "\n",
       "   DwellingType_Townhouse  \n",
       "0                       0  \n",
       "1                       0  \n",
       "2                       0  \n",
       "\n",
       "[3 rows x 30 columns]"
      ]
     },
     "execution_count": 343,
     "metadata": {},
     "output_type": "execute_result"
    }
   ],
   "source": [
    "## Convert Categorical vectors to dummy (1-hot encoded) binary vectors \n",
    "\n",
    "def gen_dummies(dfColumn,columnName):\n",
    "    data = pd.DataFrame({columnName: dfColumn})\n",
    "    res = pd.get_dummies(data)\n",
    "    return res\n",
    "\n",
    "# Generate Dummy Vectors\n",
    "poolDummies = gen_dummies(df['Pool'], 'Pool')  #list(df.columns.values)[4]\n",
    "dwellingTypeDummies = gen_dummies(df['DwellingType'], 'DwellingType')  #list(df.columns.values)[14]\n",
    "\n",
    "# Concatenate with df\n",
    "df = pd.concat([df, poolDummies], axis=1, join_axes=[df.index])\n",
    "df = pd.concat([df, dwellingTypeDummies], axis=1, join_axes=[df.index])\n",
    "df.head(3)"
   ]
  },
  {
   "cell_type": "code",
   "execution_count": 344,
   "metadata": {
    "collapsed": false
   },
   "outputs": [],
   "source": [
    "## Convert Categorical Data to a 'hot-encoding'\n",
    "# Note that the magnitude that will be assessed is based on the coder's \n",
    "# belief in the relative utility of the option.\n",
    "# Sould be sorted on average cost of each option\n",
    "\n",
    "# First 'Pool' Data Set (0-3 Hot-encoding)\n",
    "lePool = preprocessing.LabelEncoder()\n",
    "#lePool.fit(df['Pool'])\n",
    "lePool.classes_ = ['None', \n",
    "                   'Community',\n",
    "                   'Private', \n",
    "                   'Both Private & Community'] # Question this assumption!\n",
    "#list(lePool.classes_)\n",
    "df['Pool'] = lePool.transform(df['Pool'])"
   ]
  },
  {
   "cell_type": "code",
   "execution_count": 345,
   "metadata": {
    "collapsed": false
   },
   "outputs": [],
   "source": [
    "# Second DwellingType (0-7 Hot-encoding)\n",
    "leDT = preprocessing.LabelEncoder()\n",
    "#leDT.fit(df['DwellingType'])\n",
    "#list(leDT.classes_)\n",
    "leDT.classes_ = ['Modular/Pre-Fab',\n",
    "                 'Mfg/Mobile Housing',\n",
    "                 'Gemini/Twin Home',\n",
    "                 'Apartment Style/Flat',\n",
    "                 'Loft Style',\n",
    "                 'Townhouse',\n",
    "                 'Patio Home',\n",
    "                 'Single Family - Detached']\n",
    "#list(leDT.classes_)\n",
    "#list(lePool.classes_)\n",
    "df['DwellingType'] = leDT.transform(df['DwellingType'])"
   ]
  },
  {
   "cell_type": "code",
   "execution_count": 346,
   "metadata": {
    "collapsed": false
   },
   "outputs": [],
   "source": [
    "## Clean Dataset for learning on ClosePrice\n",
    "# Exclude Null ClosePrice Data, because it doesn't inform the ML algo\n",
    "df = df[df.ClosePrice.notnull()]"
   ]
  },
  {
   "cell_type": "code",
   "execution_count": 347,
   "metadata": {
    "collapsed": false
   },
   "outputs": [],
   "source": [
    "## Living Area: If None, replace with median value \n",
    "df.LivingArea[df.LivingArea.isnull()] = stat.median(df['LivingArea'])\n",
    "#df[df['ListingId'] == 5140687]  # Confirm NaN replaced with median\n",
    "#df[df.LivingArea.isnull()]"
   ]
  },
  {
   "cell_type": "code",
   "execution_count": 348,
   "metadata": {
    "collapsed": false
   },
   "outputs": [],
   "source": [
    "##GeoLat And GeoLon  # Bad Assumption, might get location from 'PublicRemarks'\n",
    "df.GeoLat[df.GeoLat.isnull()] = stat.median(df['GeoLat'])\n",
    "df.GeoLon[df.GeoLon.isnull()] = stat.median(df['GeoLon'])\n",
    "#df.dtypes[df.dtypes.map(lambda x: x=='object')]"
   ]
  },
  {
   "cell_type": "code",
   "execution_count": 349,
   "metadata": {
    "collapsed": false
   },
   "outputs": [
    {
     "data": {
      "text/plain": [
       "(37934, 25)"
      ]
     },
     "execution_count": 349,
     "metadata": {},
     "output_type": "execute_result"
    }
   ],
   "source": [
    "## Generate Training and Test Data Set (X , y)\n",
    "# Training Variables , 'Pool', 'DwellingType'\n",
    "X = df.drop(['ListDate', 'PublicRemarks', 'CloseDate', 'ClosePrice','ListingStatus'], axis=1) \n",
    "X.shape\n",
    "#X.describe()"
   ]
  },
  {
   "cell_type": "code",
   "execution_count": 350,
   "metadata": {
    "collapsed": false
   },
   "outputs": [
    {
     "data": {
      "text/plain": [
       "(37934,)"
      ]
     },
     "execution_count": 350,
     "metadata": {},
     "output_type": "execute_result"
    }
   ],
   "source": [
    "# Prediction Variable == Close Price \n",
    "y = df['ClosePrice']\n",
    "y.shape"
   ]
  },
  {
   "cell_type": "code",
   "execution_count": 356,
   "metadata": {
    "collapsed": false
   },
   "outputs": [
    {
     "ename": "AttributeError",
     "evalue": "'DataFrame' object has no attribute 'summary'",
     "output_type": "error",
     "traceback": [
      "\u001b[0;31m---------------------------------------------------------------------------\u001b[0m",
      "\u001b[0;31mAttributeError\u001b[0m                            Traceback (most recent call last)",
      "\u001b[0;32m<ipython-input-356-797850be203b>\u001b[0m in \u001b[0;36m<module>\u001b[0;34m()\u001b[0m\n\u001b[1;32m      7\u001b[0m \u001b[0;31m#df['LivingArea'] = df['LivingArea'].astype('float32')\u001b[0m\u001b[0;34m\u001b[0m\u001b[0;34m\u001b[0m\u001b[0m\n\u001b[1;32m      8\u001b[0m \u001b[0;31m#df['sdfas'].gsub('%','')\u001b[0m\u001b[0;34m\u001b[0m\u001b[0;34m\u001b[0m\u001b[0m\n\u001b[0;32m----> 9\u001b[0;31m \u001b[0mdf\u001b[0m\u001b[0;34m.\u001b[0m\u001b[0msummary\u001b[0m\u001b[0;34m\u001b[0m\u001b[0m\n\u001b[0m",
      "\u001b[0;32m//anaconda/lib/python3.4/site-packages/pandas/core/generic.py\u001b[0m in \u001b[0;36m__getattr__\u001b[0;34m(self, name)\u001b[0m\n\u001b[1;32m   2148\u001b[0m                 \u001b[0;32mreturn\u001b[0m \u001b[0mself\u001b[0m\u001b[0;34m[\u001b[0m\u001b[0mname\u001b[0m\u001b[0;34m]\u001b[0m\u001b[0;34m\u001b[0m\u001b[0m\n\u001b[1;32m   2149\u001b[0m             raise AttributeError(\"'%s' object has no attribute '%s'\" %\n\u001b[0;32m-> 2150\u001b[0;31m                                  (type(self).__name__, name))\n\u001b[0m\u001b[1;32m   2151\u001b[0m \u001b[0;34m\u001b[0m\u001b[0m\n\u001b[1;32m   2152\u001b[0m     \u001b[0;32mdef\u001b[0m \u001b[0m__setattr__\u001b[0m\u001b[0;34m(\u001b[0m\u001b[0mself\u001b[0m\u001b[0;34m,\u001b[0m \u001b[0mname\u001b[0m\u001b[0;34m,\u001b[0m \u001b[0mvalue\u001b[0m\u001b[0;34m)\u001b[0m\u001b[0;34m:\u001b[0m\u001b[0;34m\u001b[0m\u001b[0m\n",
      "\u001b[0;31mAttributeError\u001b[0m: 'DataFrame' object has no attribute 'summary'"
     ]
    }
   ],
   "source": [
    "## Debug Tools\n",
    "#df.head(3)\n",
    "#df['DwellingType'].head(20)\n",
    "#df.describe()\n",
    "#df.dtypes\n",
    "#df.shape  #[1]\n",
    "#df['LivingArea'] = df['LivingArea'].astype('float32')\n",
    "#df['sdfas'].gsub('%','')\n",
    "df.summary"
   ]
  },
  {
   "cell_type": "markdown",
   "metadata": {},
   "source": [
    "## Regression Model: Random Forest"
   ]
  },
  {
   "cell_type": "code",
   "execution_count": 351,
   "metadata": {
    "collapsed": false
   },
   "outputs": [],
   "source": [
    "## Test and Training Sets\n",
    "X_train, X_test, y_train, y_test = train_test_split(X, y, \n",
    "                                                    test_size=0.33,\n",
    "                                                    random_state=0)"
   ]
  },
  {
   "cell_type": "code",
   "execution_count": 352,
   "metadata": {
    "collapsed": false
   },
   "outputs": [],
   "source": [
    "## Train Random Forest\n",
    "rgr = RandomForestRegressor(n_jobs=-1, \n",
    "                            max_features=None, \n",
    "                            n_estimators=100, \n",
    "                            oob_score=True, \n",
    "                            random_state=0)\n",
    "y_pred = rgr.fit(X_train,y_train).predict(X_test)"
   ]
  },
  {
   "cell_type": "code",
   "execution_count": 353,
   "metadata": {
    "collapsed": false
   },
   "outputs": [
    {
     "name": "stderr",
     "output_type": "stream",
     "text": [
      "//anaconda/lib/python3.4/site-packages/matplotlib/collections.py:590: FutureWarning: elementwise comparison failed; returning scalar instead, but in the future will perform elementwise comparison\n",
      "  if self._edgecolors == str('face'):\n"
     ]
    },
    {
     "data": {
      "image/png": "[encoded data removed]",
      "text/plain": [
       "<matplotlib.figure.Figure at 0x1282c5860>"
      ]
     },
     "metadata": {},
     "output_type": "display_data"
    }
   ],
   "source": [
    "## Plot Resulting Prediction vs. Test\n",
    "plt.figure(figsize=(6,6))\n",
    "\n",
    "plt.scatter(y_test, y_pred, color='blue', s=5, edgecolor='none')\n",
    "plt.xlim(200000,550000)\n",
    "plt.ylim(200000,550000)\n",
    "plt.grid(True)\n",
    "plt.ylabel('y_fit, ClosePrice [USD]')\n",
    "plt.xlabel('y_test, ClosePrice [USD]')\n",
    "plt.title('y_pred vs. y_test')\n",
    "plt.axes().set_aspect('equal') # 'datalim'\n",
    "plt.show()"
   ]
  },
  {
   "cell_type": "markdown",
   "metadata": {},
   "source": [
    "## Performance of Regression(s)"
   ]
  },
  {
   "cell_type": "code",
   "execution_count": 354,
   "metadata": {
    "collapsed": false
   },
   "outputs": [
    {
     "data": {
      "text/plain": [
       "418439188.13411808"
      ]
     },
     "execution_count": 354,
     "metadata": {},
     "output_type": "execute_result"
    }
   ],
   "source": [
    "## Error Measurement: Variance between Prediction and Actual ClosePrice\n",
    "mean_squared_error(y_test, y_pred)"
   ]
  },
  {
   "cell_type": "markdown",
   "metadata": {},
   "source": [
    "### Improvements to Model are reductions in Mean-Squared-Error\n",
    "Old version(s) of regressor had:\n",
    "    mse = 466,666,896 -- Drop Pool and Dwelling type\n",
    "    mse = 387,077,490 -- Hot-encoded Category Data\n",
    "\n",
    "New version of regressor is:\n",
    "    mse = 418,439,188 -- Hot-encoded category data and dummy vectors  <<= WTF! Why did it go up with more vectors?"
   ]
  },
  {
   "cell_type": "code",
   "execution_count": 307,
   "metadata": {
    "collapsed": false
   },
   "outputs": [
    {
     "ename": "AttributeError",
     "evalue": "'dict' object has no attribute 'drop'",
     "output_type": "error",
     "traceback": [
      "\u001b[0;31m---------------------------------------------------------------------------\u001b[0m",
      "\u001b[0;31mAttributeError\u001b[0m                            Traceback (most recent call last)",
      "\u001b[0;32m<ipython-input-307-c6f397e9bf02>\u001b[0m in \u001b[0;36m<module>\u001b[0;34m()\u001b[0m\n\u001b[0;32m----> 1\u001b[0;31m \u001b[0mdf\u001b[0m\u001b[0;34m.\u001b[0m\u001b[0mdrop\u001b[0m\u001b[0;34m(\u001b[0m\u001b[0;34m[\u001b[0m\u001b[0;34m'Pool_None'\u001b[0m\u001b[0;34m,\u001b[0m\u001b[0;34m'Pool_Private'\u001b[0m\u001b[0;34m]\u001b[0m\u001b[0;34m,\u001b[0m \u001b[0maxis\u001b[0m\u001b[0;34m=\u001b[0m\u001b[0;36m1\u001b[0m\u001b[0;34m)\u001b[0m\u001b[0;34m\u001b[0m\u001b[0m\n\u001b[0m\u001b[1;32m      2\u001b[0m \u001b[0mdf\u001b[0m\u001b[0;34m\u001b[0m\u001b[0m\n\u001b[1;32m      3\u001b[0m \u001b[0;31m#Z = pd.concat([X, y], axis=1)\u001b[0m\u001b[0;34m\u001b[0m\u001b[0;34m\u001b[0m\u001b[0m\n\u001b[1;32m      4\u001b[0m \u001b[0;31m#Z.shape\u001b[0m\u001b[0;34m\u001b[0m\u001b[0;34m\u001b[0m\u001b[0m\n",
      "\u001b[0;31mAttributeError\u001b[0m: 'dict' object has no attribute 'drop'"
     ]
    }
   ],
   "source": [
    "df.drop(['Pool_None','Pool_Private'], axis=1)\n",
    "df\n",
    "#Z = pd.concat([X, y], axis=1)\n",
    "#Z.shape"
   ]
  },
  {
   "cell_type": "code",
   "execution_count": 249,
   "metadata": {
    "collapsed": false
   },
   "outputs": [
    {
     "name": "stdout",
     "output_type": "stream",
     "text": [
      "[  9.34038846e-01   5.26015140e-02   1.33594905e-02   1.48127038e-07\n",
      "   6.73811605e-10   3.72595571e-10   6.53832174e-11   3.14521300e-11\n",
      "   1.37770583e-11   1.00489144e-11   6.72920505e-12   2.28625957e-12\n",
      "   1.93328432e-12   1.28884057e-12   9.87168834e-13   5.09643877e-13\n",
      "   4.82952078e-13   3.05699829e-13   2.20897240e-13   1.75237074e-14\n",
      "   9.78388812e-15   7.13161849e-16   1.17974036e-33   1.43830480e-41\n",
      "   5.11178215e-42]\n"
     ]
    }
   ],
   "source": [
    "## Evaluate PCA to Determine Pricipal Components\n",
    "from sklearn.decomposition import PCA\n",
    "pca = PCA(n_components=25)  # Number of compenent vectors in the training set\n",
    "pca.fit(X)\n",
    "PCA(copy=True, n_components=25, whiten=False)\n",
    "#print(pca.explained_variance_ratio_) \n",
    "# Note: first two contain 98% of the variance"
   ]
  },
  {
   "cell_type": "code",
   "execution_count": 252,
   "metadata": {
    "collapsed": false
   },
   "outputs": [
    {
     "data": {
      "text/plain": [
       "<matplotlib.text.Text at 0x1281b1e10>"
      ]
     },
     "execution_count": 252,
     "metadata": {},
     "output_type": "execute_result"
    },
    {
     "data": {
      "image/png": "[encoded data removed]",
      "text/plain": [
       "<matplotlib.figure.Figure at 0x1281b66a0>"
      ]
     },
     "metadata": {},
     "output_type": "display_data"
    }
   ],
   "source": [
    "## Plot the PCA spectrum\n",
    "plt.figure(figsize=(6, 6))\n",
    "plt.clf()\n",
    "plt.axes([.2, .2, .7, .7])\n",
    "plt.plot(pca.explained_variance_ratio_, linewidth=2) # pca.explained_variance_\n",
    "plt.axis('tight')\n",
    "plt.grid(True)\n",
    "plt.title('Scree Plot')\n",
    "plt.xlabel('Principal Components [n]')\n",
    "plt.ylabel('Percentage of Variance [%]') # for each eigenvector"
   ]
  },
  {
   "cell_type": "markdown",
   "metadata": {},
   "source": [
    "## What is Next?\n",
    "\n",
    "After model is finalized, test on whole dataset.\n",
    "\n",
    "Try GBM (Gradient Boosted Machines) next and GLM (Generalized Linear Model). GBM Normally beats deep learning and GLM. Mean-squared-error to compare regression models  \n",
    "Apply a meta-learner specifically a GLM (nnps) to stack/ensemble the algorithms.\n",
    "\n",
    "### Missing data:  \n",
    "Source: http://artsci.wustl.edu/~gradconf/conf2015/Papers2015/1_3_Ho.pdf  \n",
    "Baths  \n",
    "Age of home  \n",
    "% of neighbors with bachelors  \n",
    "% of neighbors with mastors/adv. degree  \n",
    "quality of neighborhood schools  \n",
    "fireplace  \n",
    "\n",
    "### Requested features:\n",
    "early stopping\n",
    "k-fold cross-validation"
   ]
  }
 ],
 "metadata": {
  "kernelspec": {
   "display_name": "Python 3",
   "language": "python",
   "name": "python3"
  },
  "language_info": {
   "codemirror_mode": {
    "name": "ipython",
    "version": 3
   },
   "file_extension": ".py",
   "mimetype": "text/x-python",
   "name": "python",
   "nbconvert_exporter": "python",
   "pygments_lexer": "ipython3",
   "version": "3.4.3"
  }
 },
 "nbformat": 4,
 "nbformat_minor": 0
}
