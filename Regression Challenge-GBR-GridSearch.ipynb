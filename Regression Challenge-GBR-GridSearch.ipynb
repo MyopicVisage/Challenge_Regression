{
 "cells": [
  {
   "cell_type": "markdown",
   "metadata": {
    "collapsed": true
   },
   "source": [
    "# Simple housing model\n",
    "\n",
    "The task is to implement a simple model to predict home prices for a small real estate transactions dataset.\n",
    "\n",
    "Predict the close price as of list date given the other attributes.\n",
    "Determine effectiveness with and without ListPrice.\n",
    "Add features as necessary."
   ]
  },
  {
   "cell_type": "markdown",
   "metadata": {},
   "source": [
    "## Outline\n",
    "<a href='#section1'>1. Load Libraries and Data</a>  \n",
    "<a href='#section2'>2. Preprocessing - Data Cleaning</a>  \n",
    "<a href='#section3'>3. Preprocessing - Feature Engineering</a>  \n",
    "<a href='#section4'>4. Preprocessing - Convert Categorical to Dummy Vectors</a>  \n",
    "<a href='#section5'>5. Analysis - Data Set Creation</a>  \n",
    "<a href='#section6'>6. Analysis - Recursive Feature Elimination</a>  \n",
    "<a href='#section7'>7. Regression Model - Gradient Boosting Regression</a>  \n",
    "<a href='#section8'>8. Regression Performance</a>  \n",
    "<a href='#section9'>9. What is Next?</a>"
   ]
  },
  {
   "cell_type": "markdown",
   "metadata": {},
   "source": [
    "<a id='section1'></a>\n",
    "## Load Libraries and Data"
   ]
  },
  {
   "cell_type": "code",
   "execution_count": 1,
   "metadata": {
    "collapsed": false
   },
   "outputs": [],
   "source": [
    "%matplotlib inline\n",
    "\n",
    "import os\n",
    "import time\n",
    "import math\n",
    "import re\n",
    "\n",
    "import numpy as np\n",
    "import pandas as pd\n",
    "import datetime as dt\n",
    "import statistics as stat\n",
    "import matplotlib.pyplot as plt\n",
    "\n",
    "from sklearn import ensemble\n",
    "from sklearn import datasets\n",
    "from sklearn.utils import shuffle\n",
    "from sklearn.metrics import mean_squared_error, r2_score\n",
    "from sklearn import cross_validation\n",
    "from sklearn import preprocessing\n",
    "from sklearn.preprocessing import OneHotEncoder\n",
    "\n",
    "## Classification Specific:\n",
    "#from sklearn.metrics import classification_report\n",
    "#from sklearn.metrics import (brier_score_loss, precision_score, recall_score,\n",
    "#                             f1_score)"
   ]
  },
  {
   "cell_type": "code",
   "execution_count": null,
   "metadata": {
    "collapsed": false
   },
   "outputs": [],
   "source": [
    "## Load Data Set\n",
    "df = pd.read_csv('data_sci_snippet.csv')\n",
    "df.head(1)"
   ]
  },
  {
   "cell_type": "markdown",
   "metadata": {},
   "source": [
    "<a id='section2'></a>\n",
    "## Preprocessing\n",
    "\n",
    "### Data Cleaning"
   ]
  },
  {
   "cell_type": "code",
   "execution_count": 3,
   "metadata": {
    "collapsed": false
   },
   "outputs": [
    {
     "name": "stdout",
     "output_type": "stream",
     "text": [
      "Percent missing data:\n",
      "\n",
      "ListingId          0.000000\n",
      "LivingArea         0.000000\n",
      "NumBedrooms        0.000000\n",
      "NumBaths           0.000000\n",
      "Pool               0.000000\n",
      "ExteriorStories    0.000000\n",
      "ListDate           0.000000\n",
      "ListPrice          0.000000\n",
      "GeoLat             0.000000\n",
      "GeoLon             0.000000\n",
      "PublicRemarks      7.739759\n",
      "CloseDate          0.000000\n",
      "ClosePrice         0.000000\n",
      "ListingStatus      0.000000\n",
      "DwellingType       0.000000\n",
      "CloseDateInt       0.000000\n",
      "ListDateInt        0.000000\n",
      "TimeToClose        0.000000\n",
      "PostalCode         0.152897\n",
      "dtype: float64\n"
     ]
    }
   ],
   "source": [
    "## Remove or Impute Missing Data\n",
    "## If count(NaN) << 1% of Data: drop row\n",
    "## Else impute with median values or Multiple-Imputations\n",
    "#print('Number of rows containing data:\\n', df.count(), sep='')\n",
    "#print('Number of rows with missing data:\\n', df.isnull().sum(), sep='')\n",
    "print('Percent missing data:\\n', sep='')\n",
    "print(df.isnull().sum()/df.count().max()*100)"
   ]
  },
  {
   "cell_type": "code",
   "execution_count": null,
   "metadata": {
    "collapsed": false
   },
   "outputs": [],
   "source": [
    "## Drop or Impute: Living Area:\n",
    "## If None, replace with median value, ideally from Zip or town \n",
    "# Drop\n",
    "#df = df[df.LivingArea.notnull()]\n",
    "#-OR-\n",
    "# Impute\n",
    "df['LivingArea'].fillna(df['LivingArea'].mean(), inplace=True)  #.mean / .median / knn(which isn't implemented)\n",
    "#df['LivingArea'].fillna(df.groupby('ZipCode')['LivingArea'].transform('median'), inplace=True) #Save for Zip code gorouping\n",
    "\n",
    "# Test\n",
    "#df[df['ListingId'] == 5140687]  # Confirm NaN replaced with median\n",
    "#df.isnull().sum()"
   ]
  },
  {
   "cell_type": "code",
   "execution_count": null,
   "metadata": {
    "collapsed": false
   },
   "outputs": [],
   "source": [
    "## Drop or Impute: GeoLat/GeoLon\n",
    "## This data might be in the 'PublicRemark'\n",
    "# Drop\n",
    "#df = df[df.GeoLat.notnull()]\n",
    "#df = df[df.GeoLon.notnull()]\n",
    "#-OR-\n",
    "# Impute\n",
    "df['GeoLat'].fillna(df['GeoLat'].mean(), inplace=True)  #.mean or .median\n",
    "df['GeoLon'].fillna(df['GeoLon'].mean(), inplace=True)  #.mean or .median\n",
    "#df['LivingArea'].fillna(df.groupby('ZipCode')['LivingArea'].transform('median'), inplace=True) #Save for Zip code grouping\n",
    "#df['LivingArea'].fillna(df.groupby('ZipCode')['LivingArea'].transform('median'), inplace=True) #Save for Zip code grouping\n",
    "\n",
    "# Test\n",
    "#df.isnull().sum()"
   ]
  },
  {
   "cell_type": "code",
   "execution_count": 4,
   "metadata": {
    "collapsed": false
   },
   "outputs": [],
   "source": [
    "## PublicRemarks: Replace Null with placeholder ' '\n",
    "df['PublicRemarks'].fillna(' ', inplace=True)\n",
    "\n",
    "## Lower Case PublicRemarks (00m:07s)\n",
    "df['PublicRemarks'] = df['PublicRemarks'].apply(lambda x : re.sub(r'[\\b\\(\\)\\\\\\\"\\'\\/\\[\\]\\s+\\,\\.:\\?!;#~*=+-_]', ' ', x))\n",
    "df['PublicRemarks'] = df['PublicRemarks'].apply(lambda x : re.sub( '\\s+', ' ', x).strip() )  # remove white space\n",
    "df['PublicRemarks'] = df['PublicRemarks'].apply(lambda x : x.lower())\n",
    "\n",
    "# Test\n",
    "#df[df.PublicRemarks.isnull()]  # If it works the output has zero rows."
   ]
  },
  {
   "cell_type": "code",
   "execution_count": null,
   "metadata": {
    "collapsed": false
   },
   "outputs": [],
   "source": [
    "## Test ClosePrice: Verify unbiased null data\n",
    "\n",
    "ClosePriceNull = df[df.ClosePrice.isnull()]\n",
    "#ClosePriceNull.head(1)\n",
    "\n",
    "plt.figure(figsize=(12, 6))\n",
    "plt.subplot(1, 2, 1)\n",
    "plt.xlim(33,34)\n",
    "plt.ylim(-111.5,-112.5)\n",
    "plt.scatter(df['GeoLat'], df['GeoLon'], s=1, c='g', edgecolor='none', label='Sold')\n",
    "plt.scatter(ClosePriceNull['GeoLat'], ClosePriceNull['GeoLon'], s=1, c='r', edgecolor='none', label='Null')\n",
    "plt.title('Sold and Delisted Homes\\non Map of Phoenix')\n",
    "plt.legend(loc='lower right')\n",
    "\n",
    "plt.subplot(1, 2, 2)\n",
    "plt.xlim(33.4,33.6)\n",
    "plt.ylim(-111.9,-112.1)\n",
    "plt.scatter(df['GeoLat'], df['GeoLon'], s=2, c='g', edgecolor='none', label='Sold')\n",
    "plt.scatter(ClosePriceNull['GeoLat'], ClosePriceNull['GeoLon'], s=2, c='r', edgecolor='none', label='Null')\n",
    "plt.title('Sold and Delisted Homes\\non Map of Phoenix')\n",
    "plt.legend(loc='lower right')\n",
    "\n",
    "plt.tight_layout()\n",
    "plt.show()"
   ]
  },
  {
   "cell_type": "code",
   "execution_count": null,
   "metadata": {
    "collapsed": false
   },
   "outputs": [],
   "source": [
    "## ClosePrice:  <--Last pre-processing step!\n",
    "## Exclude Null ClosePrice Data, because it doesn't inform the ML algo\n",
    "df = df[df.ClosePrice.notnull()].reset_index(drop=True)\n",
    "# Removes are rows with no ClosePrice and resets index"
   ]
  },
  {
   "cell_type": "code",
   "execution_count": 8,
   "metadata": {
    "collapsed": false
   },
   "outputs": [
    {
     "name": "stdout",
     "output_type": "stream",
     "text": [
      "(37934, 19)\n"
     ]
    },
    {
     "data": {
      "text/plain": [
       "ListingId             0\n",
       "LivingArea            0\n",
       "NumBedrooms           0\n",
       "NumBaths              0\n",
       "Pool                  0\n",
       "ExteriorStories       0\n",
       "ListDate              0\n",
       "ListPrice             0\n",
       "GeoLat                0\n",
       "GeoLon                0\n",
       "PublicRemarks      2936\n",
       "CloseDate             0\n",
       "ClosePrice            0\n",
       "ListingStatus         0\n",
       "DwellingType          0\n",
       "CloseDateInt          0\n",
       "ListDateInt           0\n",
       "TimeToClose           0\n",
       "PostalCode           58\n",
       "dtype: int64"
      ]
     },
     "execution_count": 8,
     "metadata": {},
     "output_type": "execute_result"
    }
   ],
   "source": [
    "## Confirm Dataset Cleaned!\n",
    "print(df.shape)\n",
    "df.isnull().sum()"
   ]
  },
  {
   "cell_type": "markdown",
   "metadata": {},
   "source": [
    "<a id='section3'></a>\n",
    "### Feature Engineering"
   ]
  },
  {
   "cell_type": "code",
   "execution_count": null,
   "metadata": {
    "collapsed": false
   },
   "outputs": [],
   "source": [
    "## Convert Dates: str to Datetime\n",
    "df['ListDate'] = pd.to_datetime(df['ListDate'])\n",
    "df['CloseDate'] = pd.to_datetime(df['CloseDate'])\n",
    "## Convert Dates: datetime to ordinals\n",
    "df['CloseDateInt'] = df['CloseDate'].apply(lambda x: x.toordinal())\n",
    "df['ListDateInt'] = df['ListDate'].apply(lambda x: x.toordinal())"
   ]
  },
  {
   "cell_type": "code",
   "execution_count": null,
   "metadata": {
    "collapsed": true
   },
   "outputs": [],
   "source": [
    "## Add TimeToClose  # Hypothesis: As time to close -> increases, ClosePrice decreases\n",
    "df['TimeToClose'] = df['CloseDateInt'] - df['ListDateInt']"
   ]
  },
  {
   "cell_type": "code",
   "execution_count": null,
   "metadata": {
    "collapsed": false
   },
   "outputs": [],
   "source": [
    "## Generate Postal Code\n",
    "## Input: (Lat/Long/(zipcode/geoJSON)) -> output: Zip Code\n",
    "#import sys  # Used to import method from file\n",
    "#sys.path.insert(1,'/users/wschram/Documents/Github/Regression_Challenge')\n",
    "\n",
    "import json\n",
    "import geojson\n",
    "\n",
    "## Load Data Set\n",
    "zips = pd.read_csv('zips.csv')\n",
    "zips['polygon'] = zips['geojson'].apply(lambda x : list(geojson.utils.coords(json.loads(x))))\n",
    "\n",
    "# Force Lat and Lon to float\n",
    "zips['Lat'] = np.nan  #.astype(float)\n",
    "zips['Lon'] = np.nan  #.astype(float)\n",
    "# Use mean of path as Centroid proxy\n",
    "zips['Lat'] = zips['polygon'].apply(lambda x : np.mean([pair[1] for pair in x ])) #<-doesn't work!\n",
    "zips['Lon'] = zips['polygon'].apply(lambda x : np.mean([pair[0] for pair in x ]))\n",
    "\n",
    "## Method: Ray Casting\n",
    "def point_in_poly(x, y, poly):\n",
    "\n",
    "    n = len(poly)\n",
    "    inside = False\n",
    "\n",
    "    p1x,p1y = poly[0]\n",
    "    for i in range(n+1):\n",
    "        p2x,p2y = poly[i % n]\n",
    "        if y > min(p1y,p2y):\n",
    "            if y <= max(p1y,p2y):\n",
    "                if x <= max(p1x,p2x):\n",
    "                    if p1y != p2y:\n",
    "                        xints = (y-p1y)*(p2x-p1x)/(p2y-p1y)+p1x\n",
    "                    if p1x == p2x or x <= xints:\n",
    "                        inside = not inside\n",
    "        p1x,p1y = p2x,p2y\n",
    "        \n",
    "    return inside\n",
    "\n",
    "\n",
    "## Convert Lat/Lon, via a GeoJSON polygon, to Postal Code\n",
    "def coord_in_zip(Lat, Lon, zips):\n",
    "    # sort zips by Lat, and in the future Lon\n",
    "    df2 = zips.ix[((zips.Lat-Lat)+(zips.Lon-Lon)).abs().argsort()].reset_index(drop=True) # [:20] , after argsort()\n",
    "    #df2 = zips.ix[(zips.Lat-Lat).abs().argsort()[:8]].reset_index(drop=True)  # OLD: 1-axis version\n",
    "    # Test Lat/Lon against zipcode geoJSON, return Postal Code\n",
    "    for row in range(len(df2)):\n",
    "        if point_in_poly(Lon, Lat, df2['polygon'].loc[row]) == True:\n",
    "            return df2['postal_code'].loc[row]\n",
    "        else:\n",
    "            pass"
   ]
  },
  {
   "cell_type": "code",
   "execution_count": null,
   "metadata": {
    "collapsed": false
   },
   "outputs": [],
   "source": [
    "## Postal Code Array (00h43m47s)\n",
    "start_time = time.time()\n",
    "\n",
    "df['PostalCode'] = np.nan\n",
    "for i in range(0, len(df)):\n",
    "    if pd.isnull(df['PostalCode'][i]) == True:\n",
    "        df.loc[i,'PostalCode'] = coord_in_zip(df['GeoLat'][i], df['GeoLon'][i], zips)  # Replaced: df['PostalCode'][i]\n",
    "    else: pass\n",
    "\n",
    "stop_time = time.time()\n",
    "print(\"Computation time: %.2fs\" % (stop_time - start_time))\n",
    "os.system('say \"Computation complete!\"');\n",
    "\n",
    "\n",
    "## Debug\n",
    "#print(df['GeoLat'][4],df['GeoLon'][4])\n",
    "#print( df.loc[12830:12860,'PostalCode'] )\n",
    "#row = 508\n",
    "#print(df['GeoLat'][row],df['GeoLon'][row])\n",
    "#print( pd.isnull( df['PostalCode'][1] ) )"
   ]
  },
  {
   "cell_type": "code",
   "execution_count": null,
   "metadata": {
    "collapsed": false
   },
   "outputs": [],
   "source": [
    "## Summary\n",
    "count = df['PostalCode'].isnull().sum()\n",
    "print('Number of rows without a Postal Code\\t:', count)  \n",
    "print('Number of rows total\\t\\t\\t:', len(df))"
   ]
  },
  {
   "cell_type": "code",
   "execution_count": null,
   "metadata": {
    "collapsed": false,
    "scrolled": true
   },
   "outputs": [],
   "source": [
    "## Add PostalCode with Web Queries\n",
    "##    b/c long / lat doesn't define neighborhoods or school dist.\n",
    "##    A dummy vector of the zip is better!\n",
    "### --> DANGER: this code takes a long time to run! <--\n",
    "\n",
    "from geopy.geocoders import Nominatim\n",
    "\n",
    "geolocator = Nominatim()\n",
    "\n",
    "for n in range(0,len(df)):   # len(df)  #0,len(df2) #100=35s  500=2m:41s\n",
    "    try:\n",
    "        if math.isnan(df.loc[n,'PostalCode']) == True:\n",
    "            df.loc[n,'PostalCode'] = int(geolocator.reverse('{lat}, {long}'.format(lat=str(df.loc[n,'GeoLat']), long=str(df.loc[n,'GeoLon']))).raw['address']['postcode'])\n",
    "        else: pass # Row already solved!\n",
    "    except: \n",
    "        print(n, df.loc[n,'GeoLat'], df.loc[n,'GeoLon'], df.loc[n,'PostalCode'])\n",
    "\n",
    "\n",
    "#import os; \n",
    "os.system('say \"Postal code web queries complete!\"');\n",
    "#os.system('say beep');\n",
    "\n",
    "## Debug Tools\n",
    "#type( df.loc[37932,'PostalCode'] )\n",
    "#df.loc[2511,]\n",
    "#df.loc[11:500,['ZipCode']]\n",
    "#df.loc[1600:1610,['GeoLat','GeoLon','ZipCode']]\n",
    "#df['ZipCode'].value_counts()\n",
    "#df['GeoLat'].value_counts()"
   ]
  },
  {
   "cell_type": "code",
   "execution_count": null,
   "metadata": {
    "collapsed": false
   },
   "outputs": [],
   "source": [
    "## Summary\n",
    "count = df['PostalCode'].isnull().sum()\n",
    "print('Number of rows without a Postal Code\\t:', count)  \n",
    "print('Number of rows total\\t\\t\\t:', len(df))"
   ]
  },
  {
   "cell_type": "code",
   "execution_count": null,
   "metadata": {
    "collapsed": true
   },
   "outputs": [],
   "source": []
  },
  {
   "cell_type": "code",
   "execution_count": 6,
   "metadata": {
    "collapsed": true
   },
   "outputs": [],
   "source": [
    "## CAUTION!!! Do not overwrite FeatureEngineering.csv \n",
    "## Save to .csv / .json / .txt\n",
    "#df.to_csv('FeatureEngineering.csv')"
   ]
  },
  {
   "cell_type": "code",
   "execution_count": 9,
   "metadata": {
    "collapsed": false
   },
   "outputs": [
    {
     "data": {
      "text/html": [
       "<div>\n",
       "<table border=\"1\" class=\"dataframe\">\n",
       "  <thead>\n",
       "    <tr style=\"text-align: right;\">\n",
       "      <th></th>\n",
       "      <th>ListingId</th>\n",
       "      <th>LivingArea</th>\n",
       "      <th>NumBedrooms</th>\n",
       "      <th>NumBaths</th>\n",
       "      <th>Pool</th>\n",
       "      <th>ExteriorStories</th>\n",
       "      <th>ListDate</th>\n",
       "      <th>ListPrice</th>\n",
       "      <th>GeoLat</th>\n",
       "      <th>GeoLon</th>\n",
       "      <th>PublicRemarks</th>\n",
       "      <th>CloseDate</th>\n",
       "      <th>ClosePrice</th>\n",
       "      <th>ListingStatus</th>\n",
       "      <th>DwellingType</th>\n",
       "      <th>CloseDateInt</th>\n",
       "      <th>ListDateInt</th>\n",
       "      <th>TimeToClose</th>\n",
       "      <th>PostalCode</th>\n",
       "    </tr>\n",
       "  </thead>\n",
       "  <tbody>\n",
       "    <tr>\n",
       "      <th>0</th>\n",
       "      <td>5077408</td>\n",
       "      <td>2230</td>\n",
       "      <td>4</td>\n",
       "      <td>2</td>\n",
       "      <td>Private</td>\n",
       "      <td>1</td>\n",
       "      <td>2014-03-01</td>\n",
       "      <td>475000</td>\n",
       "      <td>33.650984</td>\n",
       "      <td>-111.963151</td>\n",
       "      <td>ery special home in popular rabian iews feels ...</td>\n",
       "      <td>2014-06-24</td>\n",
       "      <td>460000</td>\n",
       "      <td>Closed</td>\n",
       "      <td>Single Family - Detached</td>\n",
       "      <td>735408</td>\n",
       "      <td>735293</td>\n",
       "      <td>115</td>\n",
       "      <td>85254</td>\n",
       "    </tr>\n",
       "  </tbody>\n",
       "</table>\n",
       "</div>"
      ],
      "text/plain": [
       "   ListingId  LivingArea  NumBedrooms  NumBaths     Pool  ExteriorStories  \\\n",
       "0    5077408        2230            4         2  Private                1   \n",
       "\n",
       "     ListDate  ListPrice     GeoLat      GeoLon  \\\n",
       "0  2014-03-01     475000  33.650984 -111.963151   \n",
       "\n",
       "                                       PublicRemarks   CloseDate  ClosePrice  \\\n",
       "0  ery special home in popular rabian iews feels ...  2014-06-24      460000   \n",
       "\n",
       "  ListingStatus              DwellingType  CloseDateInt  ListDateInt  \\\n",
       "0        Closed  Single Family - Detached        735408       735293   \n",
       "\n",
       "   TimeToClose  PostalCode  \n",
       "0          115       85254  "
      ]
     },
     "execution_count": 9,
     "metadata": {},
     "output_type": "execute_result"
    }
   ],
   "source": [
    "## Read from .csv / .json / .txt\n",
    "df = pd.read_csv('FeatureEngineering.csv')\n",
    "\n",
    "#print( df.columns.tolist() )\n",
    "df = df.drop(df.columns[0],axis=1)  #'Unnamed: 0',axis=1\n",
    "df['PublicRemarks'].fillna(' ', inplace=True)  # Write to csv, removes ' ' cells\n",
    "df.head(1)"
   ]
  },
  {
   "cell_type": "markdown",
   "metadata": {
    "collapsed": false
   },
   "source": [
    "<a id='section4'></a>  \n",
    "### Preprocessing - Convert Categorical to Dummy Vectors\n",
    "Here we address what information is obtained from postal code, pool type, and Dwelling type.  "
   ]
  },
  {
   "cell_type": "code",
   "execution_count": null,
   "metadata": {
    "collapsed": false
   },
   "outputs": [],
   "source": [
    "## Convert Categorical vectors to dummy (1-hot encoded) binary vectors \n",
    "### --> Proven less effective than a 0-n encoding based on utility\n",
    "###        or avg. valuation.\n",
    "\n",
    "#def gen_dummies(dfColumn,columnName):\n",
    "#    data = pd.DataFrame({columnName: dfColumn})\n",
    "#    res = pd.get_dummies(data)\n",
    "#    return res\n",
    "\n",
    "## Generate Dummy Vectors\n",
    "#poolDummies = gen_dummies(df['Pool'], 'Pool')  #list(df.columns.values)[4]\n",
    "#dwellingTypeDummies = gen_dummies(df['DwellingType'], 'DwellingType')  #list(df.columns.values)[14]\n",
    "\n",
    "## Concatenate with df\n",
    "#df = pd.concat([df, poolDummies], axis=1, join_axes=[df.index])\n",
    "#df = pd.concat([df, dwellingTypeDummies], axis=1, join_axes=[df.index])\n",
    "#df.head(3)"
   ]
  },
  {
   "cell_type": "code",
   "execution_count": 10,
   "metadata": {
    "collapsed": false
   },
   "outputs": [
    {
     "data": {
      "text/html": [
       "<div>\n",
       "<table border=\"1\" class=\"dataframe\">\n",
       "  <thead>\n",
       "    <tr style=\"text-align: right;\">\n",
       "      <th></th>\n",
       "      <th>ListingId</th>\n",
       "      <th>LivingArea</th>\n",
       "      <th>NumBedrooms</th>\n",
       "      <th>NumBaths</th>\n",
       "      <th>Pool</th>\n",
       "      <th>ExteriorStories</th>\n",
       "      <th>ListDate</th>\n",
       "      <th>ListPrice</th>\n",
       "      <th>GeoLat</th>\n",
       "      <th>GeoLon</th>\n",
       "      <th>PublicRemarks</th>\n",
       "      <th>CloseDate</th>\n",
       "      <th>ClosePrice</th>\n",
       "      <th>ListingStatus</th>\n",
       "      <th>DwellingType</th>\n",
       "      <th>CloseDateInt</th>\n",
       "      <th>ListDateInt</th>\n",
       "      <th>TimeToClose</th>\n",
       "      <th>PostalCode</th>\n",
       "      <th>PoolOrd</th>\n",
       "    </tr>\n",
       "  </thead>\n",
       "  <tbody>\n",
       "    <tr>\n",
       "      <th>0</th>\n",
       "      <td>5077408</td>\n",
       "      <td>2230</td>\n",
       "      <td>4</td>\n",
       "      <td>2</td>\n",
       "      <td>Private</td>\n",
       "      <td>1</td>\n",
       "      <td>2014-03-01</td>\n",
       "      <td>475000</td>\n",
       "      <td>33.650984</td>\n",
       "      <td>-111.963151</td>\n",
       "      <td>ery special home in popular rabian iews feels ...</td>\n",
       "      <td>2014-06-24</td>\n",
       "      <td>460000</td>\n",
       "      <td>Closed</td>\n",
       "      <td>Single Family - Detached</td>\n",
       "      <td>735408</td>\n",
       "      <td>735293</td>\n",
       "      <td>115</td>\n",
       "      <td>85254</td>\n",
       "      <td>2</td>\n",
       "    </tr>\n",
       "  </tbody>\n",
       "</table>\n",
       "</div>"
      ],
      "text/plain": [
       "   ListingId  LivingArea  NumBedrooms  NumBaths     Pool  ExteriorStories  \\\n",
       "0    5077408        2230            4         2  Private                1   \n",
       "\n",
       "     ListDate  ListPrice     GeoLat      GeoLon  \\\n",
       "0  2014-03-01     475000  33.650984 -111.963151   \n",
       "\n",
       "                                       PublicRemarks   CloseDate  ClosePrice  \\\n",
       "0  ery special home in popular rabian iews feels ...  2014-06-24      460000   \n",
       "\n",
       "  ListingStatus              DwellingType  CloseDateInt  ListDateInt  \\\n",
       "0        Closed  Single Family - Detached        735408       735293   \n",
       "\n",
       "   TimeToClose  PostalCode  PoolOrd  \n",
       "0          115       85254        2  "
      ]
     },
     "execution_count": 10,
     "metadata": {},
     "output_type": "execute_result"
    }
   ],
   "source": [
    "## Convert Categorical Data to a 'hot-encoding'\n",
    "# Note that the magnitude that will be assessed is based on the analyst's \n",
    "# belief in the relative utility of the option on ClosePrice.\n",
    "# Effectively this turns the features from categorical to ordinal.\n",
    "# Ex. X[:, 0] = LabelEncoder().fit_transform(X[:,0])\n",
    "\n",
    "## First 'Pool' Data Set (0-3 Hot-encoding)\n",
    "lePool = preprocessing.LabelEncoder()\n",
    "#lePool.fit(df['Pool'])\n",
    "lePool.classes_ = ['None', \n",
    "                   'Community',\n",
    "                   'Private', \n",
    "                   'Both Private & Community'] # Question this assumption!\n",
    "#list(lePool.classes_)\n",
    "df['PoolOrd'] = np.empty(len(df), dtype=int)\n",
    "df['PoolOrd'] = lePool.transform(df['Pool'])\n",
    "#df.head(1)"
   ]
  },
  {
   "cell_type": "code",
   "execution_count": 11,
   "metadata": {
    "collapsed": false
   },
   "outputs": [
    {
     "data": {
      "text/html": [
       "<div>\n",
       "<table border=\"1\" class=\"dataframe\">\n",
       "  <thead>\n",
       "    <tr style=\"text-align: right;\">\n",
       "      <th></th>\n",
       "      <th>ListingId</th>\n",
       "      <th>LivingArea</th>\n",
       "      <th>NumBedrooms</th>\n",
       "      <th>NumBaths</th>\n",
       "      <th>Pool</th>\n",
       "      <th>ExteriorStories</th>\n",
       "      <th>ListDate</th>\n",
       "      <th>ListPrice</th>\n",
       "      <th>GeoLat</th>\n",
       "      <th>GeoLon</th>\n",
       "      <th>...</th>\n",
       "      <th>CloseDate</th>\n",
       "      <th>ClosePrice</th>\n",
       "      <th>ListingStatus</th>\n",
       "      <th>DwellingType</th>\n",
       "      <th>CloseDateInt</th>\n",
       "      <th>ListDateInt</th>\n",
       "      <th>TimeToClose</th>\n",
       "      <th>PostalCode</th>\n",
       "      <th>PoolOrd</th>\n",
       "      <th>DwellingTypeOrd</th>\n",
       "    </tr>\n",
       "  </thead>\n",
       "  <tbody>\n",
       "    <tr>\n",
       "      <th>0</th>\n",
       "      <td>5077408</td>\n",
       "      <td>2230</td>\n",
       "      <td>4</td>\n",
       "      <td>2</td>\n",
       "      <td>Private</td>\n",
       "      <td>1</td>\n",
       "      <td>2014-03-01</td>\n",
       "      <td>475000</td>\n",
       "      <td>33.650984</td>\n",
       "      <td>-111.963151</td>\n",
       "      <td>...</td>\n",
       "      <td>2014-06-24</td>\n",
       "      <td>460000</td>\n",
       "      <td>Closed</td>\n",
       "      <td>Single Family - Detached</td>\n",
       "      <td>735408</td>\n",
       "      <td>735293</td>\n",
       "      <td>115</td>\n",
       "      <td>85254</td>\n",
       "      <td>2</td>\n",
       "      <td>7</td>\n",
       "    </tr>\n",
       "  </tbody>\n",
       "</table>\n",
       "<p>1 rows × 21 columns</p>\n",
       "</div>"
      ],
      "text/plain": [
       "   ListingId  LivingArea  NumBedrooms  NumBaths     Pool  ExteriorStories  \\\n",
       "0    5077408        2230            4         2  Private                1   \n",
       "\n",
       "     ListDate  ListPrice     GeoLat      GeoLon       ...          CloseDate  \\\n",
       "0  2014-03-01     475000  33.650984 -111.963151       ...         2014-06-24   \n",
       "\n",
       "  ClosePrice  ListingStatus              DwellingType CloseDateInt  \\\n",
       "0     460000         Closed  Single Family - Detached       735408   \n",
       "\n",
       "   ListDateInt  TimeToClose  PostalCode  PoolOrd  DwellingTypeOrd  \n",
       "0       735293          115       85254        2                7  \n",
       "\n",
       "[1 rows x 21 columns]"
      ]
     },
     "execution_count": 11,
     "metadata": {},
     "output_type": "execute_result"
    }
   ],
   "source": [
    "## Second DwellingType (0-7 Hot-encoding)\n",
    "# Rank was determined by assessing the mean ClosePrice of the\n",
    "# respective DwellingType.\n",
    "leDT = preprocessing.LabelEncoder()\n",
    "#leDT.fit(df['DwellingType'])\n",
    "leDT.classes_ = ['Modular/Pre-Fab',\n",
    "                 'Mfg/Mobile Housing',\n",
    "                 'Gemini/Twin Home',\n",
    "                 'Apartment Style/Flat',\n",
    "                 'Loft Style',\n",
    "                 'Townhouse',\n",
    "                 'Patio Home',\n",
    "                 'Single Family - Detached']\n",
    "#list(leDT.classes_)\n",
    "df['DwellingTypeOrd'] = np.empty(len(df), dtype=int)\n",
    "df['DwellingTypeOrd'] = leDT.transform(df['DwellingType'])\n",
    "df.head(1)"
   ]
  },
  {
   "cell_type": "code",
   "execution_count": 12,
   "metadata": {
    "collapsed": false
   },
   "outputs": [
    {
     "data": {
      "text/html": [
       "<div>\n",
       "<table border=\"1\" class=\"dataframe\">\n",
       "  <thead>\n",
       "    <tr style=\"text-align: right;\">\n",
       "      <th></th>\n",
       "      <th>ListingId</th>\n",
       "      <th>LivingArea</th>\n",
       "      <th>NumBedrooms</th>\n",
       "      <th>NumBaths</th>\n",
       "      <th>Pool</th>\n",
       "      <th>ExteriorStories</th>\n",
       "      <th>ListDate</th>\n",
       "      <th>ListPrice</th>\n",
       "      <th>GeoLat</th>\n",
       "      <th>GeoLon</th>\n",
       "      <th>...</th>\n",
       "      <th>Zip_86343</th>\n",
       "      <th>Zip_86351</th>\n",
       "      <th>Zip_86401</th>\n",
       "      <th>Zip_86403</th>\n",
       "      <th>Zip_86409</th>\n",
       "      <th>Zip_86411</th>\n",
       "      <th>Zip_86431</th>\n",
       "      <th>Zip_86432</th>\n",
       "      <th>Zip_86440</th>\n",
       "      <th>Zip_86601</th>\n",
       "    </tr>\n",
       "  </thead>\n",
       "  <tbody>\n",
       "    <tr>\n",
       "      <th>0</th>\n",
       "      <td>5077408</td>\n",
       "      <td>2230</td>\n",
       "      <td>4</td>\n",
       "      <td>2.0</td>\n",
       "      <td>Private</td>\n",
       "      <td>1</td>\n",
       "      <td>2014-03-01</td>\n",
       "      <td>475000</td>\n",
       "      <td>33.650984</td>\n",
       "      <td>-111.963151</td>\n",
       "      <td>...</td>\n",
       "      <td>0</td>\n",
       "      <td>0</td>\n",
       "      <td>0</td>\n",
       "      <td>0</td>\n",
       "      <td>0</td>\n",
       "      <td>0</td>\n",
       "      <td>0</td>\n",
       "      <td>0</td>\n",
       "      <td>0</td>\n",
       "      <td>0</td>\n",
       "    </tr>\n",
       "    <tr>\n",
       "      <th>1</th>\n",
       "      <td>5077486</td>\n",
       "      <td>1601</td>\n",
       "      <td>3</td>\n",
       "      <td>2.0</td>\n",
       "      <td>Private</td>\n",
       "      <td>1</td>\n",
       "      <td>2014-03-01</td>\n",
       "      <td>279900</td>\n",
       "      <td>33.692122</td>\n",
       "      <td>-112.038019</td>\n",
       "      <td>...</td>\n",
       "      <td>0</td>\n",
       "      <td>0</td>\n",
       "      <td>0</td>\n",
       "      <td>0</td>\n",
       "      <td>0</td>\n",
       "      <td>0</td>\n",
       "      <td>0</td>\n",
       "      <td>0</td>\n",
       "      <td>0</td>\n",
       "      <td>0</td>\n",
       "    </tr>\n",
       "    <tr>\n",
       "      <th>2</th>\n",
       "      <td>5077487</td>\n",
       "      <td>2440</td>\n",
       "      <td>4</td>\n",
       "      <td>2.5</td>\n",
       "      <td>None</td>\n",
       "      <td>2</td>\n",
       "      <td>2014-03-01</td>\n",
       "      <td>229900</td>\n",
       "      <td>33.647270</td>\n",
       "      <td>-112.251490</td>\n",
       "      <td>...</td>\n",
       "      <td>0</td>\n",
       "      <td>0</td>\n",
       "      <td>0</td>\n",
       "      <td>0</td>\n",
       "      <td>0</td>\n",
       "      <td>0</td>\n",
       "      <td>0</td>\n",
       "      <td>0</td>\n",
       "      <td>0</td>\n",
       "      <td>0</td>\n",
       "    </tr>\n",
       "  </tbody>\n",
       "</table>\n",
       "<p>3 rows × 239 columns</p>\n",
       "</div>"
      ],
      "text/plain": [
       "   ListingId  LivingArea  NumBedrooms  NumBaths     Pool  ExteriorStories  \\\n",
       "0    5077408        2230            4       2.0  Private                1   \n",
       "1    5077486        1601            3       2.0  Private                1   \n",
       "2    5077487        2440            4       2.5     None                2   \n",
       "\n",
       "     ListDate  ListPrice     GeoLat      GeoLon    ...     Zip_86343  \\\n",
       "0  2014-03-01     475000  33.650984 -111.963151    ...             0   \n",
       "1  2014-03-01     279900  33.692122 -112.038019    ...             0   \n",
       "2  2014-03-01     229900  33.647270 -112.251490    ...             0   \n",
       "\n",
       "  Zip_86351  Zip_86401 Zip_86403 Zip_86409  Zip_86411  Zip_86431  Zip_86432  \\\n",
       "0         0          0         0         0          0          0          0   \n",
       "1         0          0         0         0          0          0          0   \n",
       "2         0          0         0         0          0          0          0   \n",
       "\n",
       "  Zip_86440  Zip_86601  \n",
       "0         0          0  \n",
       "1         0          0  \n",
       "2         0          0  \n",
       "\n",
       "[3 rows x 239 columns]"
      ]
     },
     "execution_count": 12,
     "metadata": {},
     "output_type": "execute_result"
    }
   ],
   "source": [
    "##### ----- Replace with n-hot encoded, PostalCode is Categorical! ------ ####### \n",
    "\n",
    "## Third PostalCode to Dummy (1-hot encoded) Binary Vectors\n",
    "### --> Proven less effective than a 0-n encoding based on utility\n",
    "###        or avg. valuation. But we'll start here.\n",
    "\n",
    "## Reformat PostalCode to String\n",
    "df['PostalCode'] = df['PostalCode'].map('{:.0f}'.format)\n",
    "df['PostalCode'] = df['PostalCode'].astype('str') #.astype(int)\n",
    "## Replace nan with -1\n",
    "df['PostalCode'] = df['PostalCode'].replace({'nan': -1})  \n",
    "\n",
    "# Generate Dummy Vectors\n",
    "postalCodeDummies = pd.get_dummies(df['PostalCode'], prefix='Zip')  #list(df.columns.values)[20]\n",
    "#print(postalCodeDummies)  \n",
    "\n",
    "## Concatenate with df\n",
    "df = pd.concat([df, postalCodeDummies], axis=1, join_axes=[df.index])\n",
    "#df.head(3)"
   ]
  },
  {
   "cell_type": "code",
   "execution_count": 13,
   "metadata": {
    "collapsed": false
   },
   "outputs": [],
   "source": [
    "## Create PublicRemarks n-gram vectors\n",
    "## http://scikit-learn.org/stable/modules/feature_extraction.html\n",
    "from sklearn.feature_extraction.text import CountVectorizer\n",
    "\n",
    "corpus = df['PublicRemarks']\n",
    "\n",
    "## Write a custom tokenizer and move df['PublicRemarks']\n",
    "## formatting to this section!\n",
    "\n",
    "# Noun Phrases in order of importance:\n",
    "vocab = ['patio', 'fireplace', 'fans',\n",
    "         'covered patio', 'car garage', 'bedroom bath',\n",
    "         'breakfast bar', 'spa',\n",
    "         'vaulted ceiling', 'ceiling fans', \n",
    "         'walk in closet', 'move in ready', \n",
    "         'stainless steel', 'washer dryer',\n",
    "         'steel appliances', 'stainless steel appliances',\n",
    "# Untested:\n",
    "         'air conditioning',\n",
    "         'hot tub',\n",
    "         'granite counter', 'hardwood', 'hardwood floors',\n",
    "         'fruit trees', 'trees',]\n",
    "\n",
    "## Bad indicators: 'HOA', 'garage', 'air condition',\n",
    "##                 'fixer upper', 'tree', 'BBQ Grill', \n",
    "##                 'fire pit', 'BBQ', 'hardwood floor',\n",
    "##                 'AC', 'hottub', 'new water heater',\n",
    "\n",
    "vect = CountVectorizer(ngram_range=(1,4),  # (1,1) or (1,2)\n",
    "                             lowercase=True,  # Convert to lowercase\n",
    "                             token_pattern=r'\\b\\w+\\b', # r'\\b\\[0-9]+|w+\\b'\n",
    "                             vocabulary = vocab,  # List of strings\n",
    "                             max_features = 250,\n",
    "                             min_df=2,  # at least n letters in gram\n",
    "                            )\n",
    "\n",
    "SparseMatrix = vect.fit_transform(corpus).toarray()\n",
    "VectSparseMatrix = pd.DataFrame((vect.fit_transform(corpus).toarray()), \n",
    "                                columns=[vect.get_feature_names()])\n",
    "# print(VectSparseMatrix)\n",
    "\n",
    "#  TF-IDF  # This doesn't work try useing the TF-IDF Vectorizer!!!\n",
    "#from sklearn.feature_extraction.text import TfidfTransformer\n",
    "#tfidf = TfidfTransformer(norm=\"l2\")\n",
    "#tfidf.fit(freq_term_matrix)\n",
    "#VectSparseMatrix = TfidfTransformer(VectSparseMatrix)\n",
    "\n",
    "#Experiement with .to_sparse() to remove zeros from df.\n",
    "#PandasSparseMatrix  # Returns size of sparse matrix"
   ]
  },
  {
   "cell_type": "code",
   "execution_count": 14,
   "metadata": {
    "collapsed": false
   },
   "outputs": [],
   "source": [
    "## Debug: List PublicRemarks Attributes \n",
    "#df['PublicRemarks'][5]\n",
    "#vectorizer.get_feature_names()\n",
    "#PandasSparseMatrix.describe()\n",
    "#VectSparseMatrix.shape\n",
    "#PandasSparseMatrix.isnull().sum()"
   ]
  },
  {
   "cell_type": "code",
   "execution_count": 15,
   "metadata": {
    "collapsed": false
   },
   "outputs": [
    {
     "name": "stdout",
     "output_type": "stream",
     "text": [
      "(37934, 262)\n"
     ]
    }
   ],
   "source": [
    "## Concatenate PublicRemark Attributes to dataframe\n",
    "data = pd.concat([df, VectSparseMatrix], axis=1, join_axes=[df.index])\n",
    "data = data.fillna(0)  # Catches NAs in dataset, found by RandomForest\n",
    "\n",
    "## Test concat\n",
    "print(data.shape)\n",
    "#df.isnull().sum()"
   ]
  },
  {
   "cell_type": "markdown",
   "metadata": {},
   "source": [
    "<a id='section5'></a>\n",
    "## Analysis - Data Set Creation"
   ]
  },
  {
   "cell_type": "code",
   "execution_count": 16,
   "metadata": {
    "collapsed": false
   },
   "outputs": [
    {
     "data": {
      "text/plain": [
       "(37934, 254)"
      ]
     },
     "execution_count": 16,
     "metadata": {},
     "output_type": "execute_result"
    }
   ],
   "source": [
    "## Generate Training and Test Data Set (X , y)\n",
    "# Training Variables\n",
    "X = data.drop(['ListDate',\n",
    "               'PublicRemarks',  #May add n-grams to create booleans from this feature\n",
    "               'CloseDate',\n",
    "               'ClosePrice',\n",
    "               'ListingStatus',\n",
    "               'Pool',\n",
    "               'DwellingType',\n",
    "               'PostalCode'], axis=1)\n",
    "headers = X.dtypes.index\n",
    "\n",
    "X.shape\n",
    "#X.describe()"
   ]
  },
  {
   "cell_type": "code",
   "execution_count": 17,
   "metadata": {
    "collapsed": false
   },
   "outputs": [
    {
     "data": {
      "text/plain": [
       "(37934,)"
      ]
     },
     "execution_count": 17,
     "metadata": {},
     "output_type": "execute_result"
    }
   ],
   "source": [
    "# Prediction Variable\n",
    "y = df['ClosePrice']\n",
    "y.shape"
   ]
  },
  {
   "cell_type": "markdown",
   "metadata": {},
   "source": [
    "<a id='section6'></a>\n",
    "## Analysis - Recursive Feature Elimination\n",
    "\n",
    "### Min(cv(MSE)) by eliminating feature variance"
   ]
  },
  {
   "cell_type": "code",
   "execution_count": 20,
   "metadata": {
    "collapsed": false
   },
   "outputs": [
    {
     "name": "stderr",
     "output_type": "stream",
     "text": [
      "//anaconda/lib/python3.4/site-packages/matplotlib/collections.py:590: FutureWarning: elementwise comparison failed; returning scalar instead, but in the future will perform elementwise comparison\n",
      "  if self._edgecolors == str('face'):\n"
     ]
    },
    {
     "data": {
      "image/png": "[encoded data removed]",
      "text/plain": [
       "<matplotlib.figure.Figure at 0x10c5d6e48>"
      ]
     },
     "metadata": {},
     "output_type": "display_data"
    },
    {
     "name": "stdout",
     "output_type": "stream",
     "text": [
      "Feature ranking:\n",
      "\t\tFeature\tImportance\tHeader\n",
      "  \t  1.\t  5\t(0.129848)\tListPrice\n",
      "  \t  2.\t  6\t(0.105069)\tGeoLat\n",
      "  \t  3.\t  1\t(0.104565)\tLivingArea\n",
      "  \t  4.\t  7\t(0.104299)\tGeoLon\n",
      "  \t  5.\t  0\t(0.102296)\tListingId\n",
      "  \t  6.\t  10\t(0.101512)\tTimeToClose\n",
      "  \t  7.\t  8\t(0.100209)\tCloseDateInt\n",
      "  \t  8.\t  9\t(0.098368)\tListDateInt\n",
      "  \t  9.\t  3\t(0.047201)\tNumBaths\n",
      "  \t  10.\t  2\t(0.036503)\tNumBedrooms\n",
      "  \t  11.\t  11\t(0.020861)\tpatio\n",
      "  \t  12.\t  4\t(0.019585)\tExteriorStories\n",
      "  \t  13.\t  13\t(0.011674)\tcar garage\n",
      "  \t  14.\t  14\t(0.009198)\twalk in closet\n",
      "  \t  15.\t  12\t(0.008811)\tcovered patio\n"
     ]
    },
    {
     "data": {
      "text/plain": [
       "0"
      ]
     },
     "execution_count": 20,
     "metadata": {},
     "output_type": "execute_result"
    }
   ],
   "source": [
    "from sklearn.datasets import make_classification\n",
    "from sklearn.ensemble import ExtraTreesClassifier\n",
    "\n",
    "# Build a forest and compute the feature importances\n",
    "forest = ExtraTreesClassifier(n_estimators=10,  # 250 by default\n",
    "                              random_state=0)\n",
    "\n",
    "forest.fit(X, y)\n",
    "importances = forest.feature_importances_\n",
    "std = np.std([tree.feature_importances_ for tree in forest.estimators_],\n",
    "             axis=0)\n",
    "indices = np.argsort(importances)[::-1]\n",
    "\n",
    "# Plot the feature importances of the forest\n",
    "plt.figure(figsize=(6, 6))\n",
    "plt.title(\"Feature importances\")\n",
    "plt.bar(range(X.shape[1]), importances[indices],\n",
    "       color=\"r\", yerr=std[indices], align=\"center\")\n",
    "plt.xticks(range(X.shape[1]), indices)\n",
    "plt.xlim([-1, X.shape[1]])\n",
    "plt.show()\n",
    "\n",
    "# Print the feature ranking\n",
    "print(\"Feature ranking:\")\n",
    "print(\"\\t\\tFeature\\tImportance\\tHeader\")\n",
    "\n",
    "for f in range(X.shape[1]):\n",
    "    print(\"  \\t  %d.\\t  %d\\t(%f)\\t%s\" % (f+1, indices[f], importances[indices[f]], headers[indices[f]]))\n",
    "\n",
    "os.system(\"say 'Computation Complete!'\")"
   ]
  },
  {
   "cell_type": "code",
   "execution_count": 19,
   "metadata": {
    "collapsed": false
   },
   "outputs": [
    {
     "name": "stdout",
     "output_type": "stream",
     "text": [
      "[11, 236, 232, 242, 237, 233, 253, 238, 240, 249, 243, 12, 244, 245, 250, 246, 239, 252, 70, 37, 30, 248, 251, 102, 82, 24, 99, 80, 130, 28, 115, 91, 92, 46, 156, 93, 84, 32, 159, 78, 98, 48, 44, 106, 161, 143, 81, 87, 49, 100, 29, 77, 22, 109, 157, 21, 116, 114, 55, 141, 97, 168, 31, 26, 23, 164, 33, 124, 121, 119, 88, 69, 155, 85, 86, 122, 35, 166, 160, 131, 101, 247, 83, 113, 18, 118, 53, 162, 54, 61, 142, 128, 51, 126, 43, 108, 76, 167, 58, 117, 16, 107, 171, 120, 65, 79, 67, 145, 34, 105, 134, 50, 127, 125, 137, 68, 150, 103, 123, 17, 56, 42, 71, 104, 112, 57, 148, 110, 163, 13, 41, 151, 153, 20, 47, 59, 136, 52, 45, 25, 40, 191, 129, 208, 14, 63, 165, 38, 36, 172, 139, 27, 199, 75, 194, 158, 15, 205, 149, 206, 147, 62, 193, 186, 204, 19, 135, 196, 73, 190, 64, 198, 169, 74, 111, 90, 211, 189, 138, 214, 39, 197, 209, 188, 95, 202, 144, 200, 210, 213, 175, 152, 220, 221, 216, 217, 212, 174, 66, 133, 222, 60, 203, 219, 96, 224, 89, 170, 146, 180, 140, 218, 173, 132, 223, 182, 215, 207, 195, 184, 176, 94, 72, 201, 229, 227, 230, 183, 181, 177, 192, 226, 178, 185, 228, 154, 225, 179, 187]\n"
     ]
    }
   ],
   "source": [
    "## Wait Until Feature Reduction Calculation completes!!!\n",
    "## Study showed re-running randomForest model reduced accuracy\n",
    "\n",
    "## Drop features and see how mean-squared-error responds \n",
    "cutoff = 0.015  # Importance, 0.0015 = remove\n",
    "cols = []\n",
    "cols = [i for i in indices if importances[i] < cutoff]\n",
    "if len(cols) == 0:\n",
    "    pass\n",
    "else: X = X.drop(X.columns[cols],axis=1)\n",
    "headers = X.dtypes.index\n",
    "print(cols)\n",
    "cols = []"
   ]
  },
  {
   "cell_type": "code",
   "execution_count": null,
   "metadata": {
    "collapsed": false
   },
   "outputs": [],
   "source": [
    "## Repeat Feature Reduction? If not, continue. "
   ]
  },
  {
   "cell_type": "code",
   "execution_count": null,
   "metadata": {
    "collapsed": false
   },
   "outputs": [],
   "source": [
    "## Debug\n",
    "#headers\n",
    "#X.head(1)"
   ]
  },
  {
   "cell_type": "markdown",
   "metadata": {},
   "source": [
    "## Generate Validate / Test / Train Datasets"
   ]
  },
  {
   "cell_type": "code",
   "execution_count": null,
   "metadata": {
    "collapsed": false
   },
   "outputs": [],
   "source": [
    "## Divide set into 60/20/20 Train/Validation/Test sets \n",
    "## Use when comparing algorithms.\n",
    "#X_train, X_intermediate, y_train, y_intermediate = cross_validation.train_test_split(X, y, train_size=0.6, test_size=0.4, random_state=0)\n",
    "#X_validation, X_test, y_validation, y_test = cross_validation.train_test_split(X_intermediate, y_intermediate, train_size=0.5, test_size=0.5, random_state=0)"
   ]
  },
  {
   "cell_type": "code",
   "execution_count": 83,
   "metadata": {
    "collapsed": true
   },
   "outputs": [],
   "source": [
    "## Divide set into 66/33 (Train/Validation)/Test sets\n",
    "## Use when comparing algorithms.\n",
    "## In k-fold validation train and test data will interchange\n",
    "X_train, X_test, y_train, y_test = cross_validation.train_test_split(X, y, train_size=0.66, test_size=0.33, random_state=0)"
   ]
  },
  {
   "cell_type": "markdown",
   "metadata": {},
   "source": [
    "<a id='section7'></a>\n",
    "## Regression Model: Gradient Boosting Regression"
   ]
  },
  {
   "cell_type": "code",
   "execution_count": 74,
   "metadata": {
    "collapsed": false
   },
   "outputs": [
    {
     "name": "stdout",
     "output_type": "stream",
     "text": [
      "Fitting 3 folds for each of 1 candidates, totalling 3 fits\n"
     ]
    },
    {
     "name": "stderr",
     "output_type": "stream",
     "text": [
      "[Parallel(n_jobs=4)]: Done   1 jobs       | elapsed:  8.6min\n",
      "[Parallel(n_jobs=4)]: Done   3 out of   3 | elapsed:  8.8min finished\n"
     ]
    },
    {
     "name": "stdout",
     "output_type": "stream",
     "text": [
      "Best hyperparameters: {'learning_rate': 0.018, 'min_samples_split': 4, 'max_depth': 12, 'n_estimators': 500, 'loss': 'huber'}\n",
      "Best score: -774721313.3905\n",
      "Regressor ran in 1577.09s[CV] learning_rate=0.018, min_samples_split=4, max_depth=12, loss=huber, n_estimators=500 \n",
      "[CV] learning_rate=0.018, min_samples_split=4, max_depth=12, loss=huber, n_estimators=500 \n",
      "[CV] learning_rate=0.018, min_samples_split=4, max_depth=12, loss=huber, n_estimators=500 \n",
      "[CV]  learning_rate=0.018, min_samples_split=4, max_depth=12, loss=huber, n_estimators=500 - 8.6min[CV]  learning_rate=0.018, min_samples_split=4, max_depth=12, loss=huber, n_estimators=500 - 8.8min[CV]  learning_rate=0.018, min_samples_split=4, max_depth=12, loss=huber, n_estimators=500 - 8.8min\n",
      "\n",
      "\n",
      "\n"
     ]
    },
    {
     "data": {
      "text/plain": [
       "0"
      ]
     },
     "execution_count": 74,
     "metadata": {},
     "output_type": "execute_result"
    }
   ],
   "source": [
    "## Hyperparameter Grid_Search for GBR\n",
    "## https://www.youtube.com/watch?v=-5l3g91NZfQ\n",
    "start_time = time.time()\n",
    "\n",
    "\n",
    "from sklearn.grid_search import GridSearchCV\n",
    "\n",
    "param_grid = {'learning_rate': [0.018], #  {0.1, 0.01, 0.001}\n",
    "              'max_depth': [12],  #  {4, 6, 8, 10, 12} # Experts claim 4-6 is best! 10-12 is better?\n",
    "              'n_estimators': [500],  #  {500, 1000} # More is Better!\n",
    "              'min_samples_split': [4], #  {1, 5, 10} # More reduces bias from outliers\n",
    "              'loss': ['huber']  # {'ls', 'lad', 'huber', 'quantile'}\n",
    "              }\n",
    "\n",
    "model = ensemble.GradientBoostingRegressor()\n",
    "gs_cv = GridSearchCV(model, param_grid, scoring='mean_squared_error', n_jobs=4, verbose=2).fit(X_train, y_train)\n",
    "# n_jobs = Number of jobs to run in parallel.\n",
    "\n",
    "#Best hyperparameter setting\n",
    "print('Best hyperparameters: %r' % gs_cv.best_params_)\n",
    "#print('Best score: %.4f' % gs_cv.best_score_)\n",
    "\n",
    "## Gradient Boosting Regression model\n",
    "model = ensemble.GradientBoostingRegressor(**gs_cv.best_params_).fit(X_train, y_train)\n",
    "\n",
    "\n",
    "stop_time = time.time()\n",
    "print(\"Regressor ran in %.2fs\" % (stop_time - start_time))\n",
    "\n",
    "os.system(\"say 'Computation Complete!'\")"
   ]
  },
  {
   "cell_type": "code",
   "execution_count": 116,
   "metadata": {
    "collapsed": false
   },
   "outputs": [
    {
     "name": "stdout",
     "output_type": "stream",
     "text": [
      "MSE: 569534931.2246\n",
      "Coefficient of Variation, CV(RMSD): 712.5868\n",
      "R2: 0.9863\n"
     ]
    },
    {
     "ename": "NameError",
     "evalue": "name 'x_plot' is not defined",
     "output_type": "error",
     "traceback": [
      "\u001b[0;31m---------------------------------------------------------------------------\u001b[0m",
      "\u001b[0;31mNameError\u001b[0m                                 Traceback (most recent call last)",
      "\u001b[0;32m<ipython-input-116-bc3e6e9ac9f6>\u001b[0m in \u001b[0;36m<module>\u001b[0;34m()\u001b[0m\n\u001b[1;32m     14\u001b[0m \u001b[0;31m# Plot the approximation\u001b[0m\u001b[0;34m\u001b[0m\u001b[0;34m\u001b[0m\u001b[0m\n\u001b[1;32m     15\u001b[0m \u001b[0;31m#plot_data()\u001b[0m\u001b[0;34m\u001b[0m\u001b[0;34m\u001b[0m\u001b[0m\n\u001b[0;32m---> 16\u001b[0;31m \u001b[0mplt\u001b[0m\u001b[0;34m.\u001b[0m\u001b[0mplot\u001b[0m\u001b[0;34m(\u001b[0m\u001b[0mx_plot\u001b[0m\u001b[0;34m,\u001b[0m \u001b[0mmodel\u001b[0m\u001b[0;34m.\u001b[0m\u001b[0mpredict\u001b[0m\u001b[0;34m(\u001b[0m\u001b[0mx_plot\u001b[0m\u001b[0;34m[\u001b[0m\u001b[0;34m:\u001b[0m\u001b[0;34m,\u001b[0m \u001b[0mnp\u001b[0m\u001b[0;34m.\u001b[0m\u001b[0mnewaxis\u001b[0m\u001b[0;34m]\u001b[0m\u001b[0;34m)\u001b[0m\u001b[0;34m,\u001b[0m \u001b[0mcolor\u001b[0m\u001b[0;34m=\u001b[0m\u001b[0;34m'r'\u001b[0m\u001b[0;34m,\u001b[0m \u001b[0mlinewidth\u001b[0m\u001b[0;34m=\u001b[0m\u001b[0;36m2\u001b[0m\u001b[0;34m)\u001b[0m\u001b[0;34m\u001b[0m\u001b[0m\n\u001b[0m",
      "\u001b[0;31mNameError\u001b[0m: name 'x_plot' is not defined"
     ]
    }
   ],
   "source": [
    "## Compute Output Variables\n",
    "# Mean Squared Error\n",
    "mse = mean_squared_error(y_test, model.predict(X_test))\n",
    "print(\"MSE: %.4f\" % mse)\n",
    "\n",
    "# CV(RMSD), coefficient of variation\n",
    "cvrmsd = math.sqrt(mse)/np.mean(y)\n",
    "print('Coefficient of Variation, CV(RMSD): %.4f' % cvrmsd)\n",
    "\n",
    "# R^2 Score\n",
    "r2 = r2_score(y_test, model.predict(X_test))\n",
    "print(\"R2: %.4f\" % r2)\n",
    "\n",
    "# Plot the approximation\n",
    "#plot_data()\n",
    "plt.plot(x_plot, model.predict(x_plot[:, np.newaxis]), color='r', linewidth=2)"
   ]
  },
  {
   "cell_type": "code",
   "execution_count": null,
   "metadata": {
    "collapsed": true
   },
   "outputs": [],
   "source": []
  },
  {
   "cell_type": "markdown",
   "metadata": {},
   "source": [
    "<a id='section8'></a>\n",
    "## Regression Performance\n",
    "### Entire dataset for training, no need for train/test/validation"
   ]
  },
  {
   "cell_type": "code",
   "execution_count": 114,
   "metadata": {
    "collapsed": false
   },
   "outputs": [
    {
     "data": {
      "image/png": "[encoded data removed]",
      "text/plain": [
       "<matplotlib.figure.Figure at 0xc40ee4da0>"
      ]
     },
     "metadata": {},
     "output_type": "display_data"
    }
   ],
   "source": [
    "## Plot training deviance\n",
    "# compute test set deviance\n",
    "test_score = np.zeros((gs_cv.best_params_['n_estimators'],), dtype=np.float64)\n",
    "\n",
    "for i, y_pred in enumerate(model.staged_predict(X_test)):\n",
    "    test_score[i] = model.loss_(y_test, y_pred)\n",
    "\n",
    "plt.figure(figsize=(12, 6))\n",
    "plt.subplot(1, 2, 2)\n",
    "plt.title('Deviance')\n",
    "plt.plot(np.arange(gs_cv.best_params_['n_estimators']) + 1, model.train_score_, 'b-',\n",
    "         label='Training Set Deviance')\n",
    "plt.plot(np.arange(gs_cv.best_params_['n_estimators']) + 1, test_score, 'r-',\n",
    "         label='Test Set Deviance')\n",
    "plt.legend(loc='upper right')\n",
    "plt.xlabel('Boosting Iterations')\n",
    "plt.ylabel('Deviance')\n",
    "plt.xlim(0,300)\n",
    "\n",
    "## Plot feature importance\n",
    "feature_importance = model.feature_importances_\n",
    "# make importances relative to max importance\n",
    "feature_importance = 100.0 * (feature_importance / feature_importance.max())\n",
    "sorted_idx = np.argsort(feature_importance)\n",
    "pos = np.arange(sorted_idx.shape[0]) + .5\n",
    "\n",
    "plt.subplot(1, 2, 1)\n",
    "plt.barh(pos, feature_importance[sorted_idx], align='center')\n",
    "plt.yticks(pos, X.columns.values[sorted_idx])\n",
    "plt.xlabel('Relative Importance')\n",
    "plt.title('Variable Importance')\n",
    "plt.show()"
   ]
  },
  {
   "cell_type": "code",
   "execution_count": 77,
   "metadata": {
    "collapsed": false
   },
   "outputs": [
    {
     "data": {
      "text/plain": [
       "Index(['ListingId', 'LivingArea', 'NumBedrooms', 'NumBaths', 'ExteriorStories',\n",
       "       'ListPrice', 'GeoLat', 'GeoLon', 'CloseDateInt', 'ListDateInt',\n",
       "       'TimeToClose', 'patio', 'covered patio', 'car garage',\n",
       "       'walk in closet'],\n",
       "      dtype='object')"
      ]
     },
     "execution_count": 77,
     "metadata": {},
     "output_type": "execute_result"
    }
   ],
   "source": [
    "X_train.columns"
   ]
  },
  {
   "cell_type": "code",
   "execution_count": 78,
   "metadata": {
    "collapsed": false
   },
   "outputs": [
    {
     "name": "stderr",
     "output_type": "stream",
     "text": [
      "//anaconda/lib/python3.4/site-packages/matplotlib/collections.py:650: FutureWarning: elementwise comparison failed; returning scalar instead, but in the future will perform elementwise comparison\n",
      "  if self._edgecolors_original != str('face'):\n",
      "//anaconda/lib/python3.4/site-packages/matplotlib/figure.py:387: UserWarning: matplotlib is currently using a non-GUI backend, so cannot show the figure\n",
      "  \"matplotlib is currently using a non-GUI backend, \"\n",
      "//anaconda/lib/python3.4/site-packages/matplotlib/collections.py:590: FutureWarning: elementwise comparison failed; returning scalar instead, but in the future will perform elementwise comparison\n",
      "  if self._edgecolors == str('face'):\n"
     ]
    },
    {
     "data": {
      "image/png": "[encoded data removed]",
      "text/plain": [
       "<matplotlib.figure.Figure at 0x116411208>"
      ]
     },
     "metadata": {},
     "output_type": "display_data"
    }
   ],
   "source": [
    "## Partial Dependency Plots\n",
    "from sklearn.ensemble.partial_dependence import plot_partial_dependence\n",
    "\n",
    "fig, axs = plot_partial_dependence(model, X_train,\n",
    "                                   features = [0, 10, [7,6]],  # [3,7] for 2.5D plot\n",
    "                                   feature_names = X_train.columns,\n",
    "                                   n_cols = 3)\n",
    "\n",
    "fig.show()"
   ]
  },
  {
   "cell_type": "code",
   "execution_count": 99,
   "metadata": {
    "collapsed": false
   },
   "outputs": [
    {
     "data": {
      "text/html": [
       "<div>\n",
       "<table border=\"1\" class=\"dataframe\">\n",
       "  <thead>\n",
       "    <tr style=\"text-align: right;\">\n",
       "      <th></th>\n",
       "      <th>GeoLat</th>\n",
       "      <th>GeoLon</th>\n",
       "    </tr>\n",
       "  </thead>\n",
       "  <tbody>\n",
       "    <tr>\n",
       "      <th>32187</th>\n",
       "      <td>33.475216</td>\n",
       "      <td>-112.058758</td>\n",
       "    </tr>\n",
       "    <tr>\n",
       "      <th>27306</th>\n",
       "      <td>33.017738</td>\n",
       "      <td>-111.390735</td>\n",
       "    </tr>\n",
       "    <tr>\n",
       "      <th>25681</th>\n",
       "      <td>33.717184</td>\n",
       "      <td>-112.277810</td>\n",
       "    </tr>\n",
       "  </tbody>\n",
       "</table>\n",
       "</div>"
      ],
      "text/plain": [
       "          GeoLat      GeoLon\n",
       "32187  33.475216 -112.058758\n",
       "27306  33.017738 -111.390735\n",
       "25681  33.717184 -112.277810"
      ]
     },
     "execution_count": 99,
     "metadata": {},
     "output_type": "execute_result"
    }
   ],
   "source": [
    "predDf.head(3)\n",
    "#predDf['GeoLon']\n",
    "predDf = pd.DataFrame({'GeoLon': X_test['GeoLon'], \n",
    "                       'GeoLat': X_test['GeoLat']})\n",
    "predDf.head(3)"
   ]
  },
  {
   "cell_type": "code",
   "execution_count": 104,
   "metadata": {
    "collapsed": false
   },
   "outputs": [
    {
     "ename": "TypeError",
     "evalue": "with_transform() missing 2 required positional arguments: 'x' and 'y'",
     "output_type": "error",
     "traceback": [
      "\u001b[0;31m---------------------------------------------------------------------------\u001b[0m",
      "\u001b[0;31mTypeError\u001b[0m                                 Traceback (most recent call last)",
      "\u001b[0;32m<ipython-input-104-4a55cee33e9b>\u001b[0m in \u001b[0;36m<module>\u001b[0;34m()\u001b[0m\n\u001b[1;32m     33\u001b[0m \u001b[0mc\u001b[0m \u001b[0;34m=\u001b[0m \u001b[0mm\u001b[0m\u001b[0;34m.\u001b[0m\u001b[0mcolorbar\u001b[0m\u001b[0;34m(\u001b[0m\u001b[0mlocation\u001b[0m\u001b[0;34m=\u001b[0m\u001b[0;34m'right'\u001b[0m\u001b[0;34m)\u001b[0m\u001b[0;34m\u001b[0m\u001b[0m\n\u001b[1;32m     34\u001b[0m \u001b[0mc\u001b[0m\u001b[0;34m.\u001b[0m\u001b[0mset_label\u001b[0m\u001b[0;34m(\u001b[0m\u001b[0;34m\"House Value (Thousands of $)\"\u001b[0m\u001b[0;34m)\u001b[0m\u001b[0;34m\u001b[0m\u001b[0m\n\u001b[0;32m---> 35\u001b[0;31m \u001b[0mm\u001b[0m\u001b[0;34m.\u001b[0m\u001b[0mplot\u001b[0m\u001b[0;34m(\u001b[0m\u001b[0;34m)\u001b[0m\u001b[0;34m\u001b[0m\u001b[0m\n\u001b[0m\u001b[1;32m     36\u001b[0m \u001b[0mplt\u001b[0m\u001b[0;34m.\u001b[0m\u001b[0mshow\u001b[0m\u001b[0;34m(\u001b[0m\u001b[0;34m)\u001b[0m\u001b[0;34m\u001b[0m\u001b[0m\n",
      "\u001b[0;31mTypeError\u001b[0m: with_transform() missing 2 required positional arguments: 'x' and 'y'"
     ]
    },
    {
     "name": "stderr",
     "output_type": "stream",
     "text": [
      "//anaconda/lib/python3.4/site-packages/matplotlib/collections.py:590: FutureWarning: elementwise comparison failed; returning scalar instead, but in the future will perform elementwise comparison\n",
      "  if self._edgecolors == str('face'):\n"
     ]
    },
    {
     "data": {
      "image/png": "[encoded data removed]",
      "text/plain": [
       "<matplotlib.figure.Figure at 0x10d0d9d30>"
      ]
     },
     "metadata": {},
     "output_type": "display_data"
    }
   ],
   "source": [
    "## Plot Housing Price on Map\n",
    "## http://www.tonicebrian.com/2012/11/05/training-gradient-boosting-trees-with-python/\n",
    "\n",
    "from mpl_toolkits.basemap import Basemap\n",
    "#predDf = pd.DataFrame(X_test.copy())\n",
    "predDf = pd.DataFrame({'GeoLon': X_test['GeoLon'], \n",
    "                       'GeoLat': X_test['GeoLat']})\n",
    "predDf['y_pred'] = model.predict(X_test)\n",
    "\n",
    "def arizona_map(ax=None, lllat=32.5, urlat=34.8, lllon=-113.5, urlon=-110):\n",
    "    m = Basemap(ax=ax, projection='stere',\n",
    "                lon_0=(urlon + lllon) / 2,\n",
    "                lat_0=(urlat + lllat) / 2,\n",
    "                llcrnrlat=lllat, urcrnrlat=urlat,\n",
    "                llcrnrlon=lllon, urcrnrlon=urlon,\n",
    "                resolution='f')\n",
    "    #m.drawstates()\n",
    "    #m.drawcountries()\n",
    "    m.drawcoastlines(color='lightblue')\n",
    "    return m\n",
    "\n",
    "plt.figure()\n",
    "m = arizona_map()\n",
    "predDf = predDf.sort_values(by='y_pred') # Useful for plotting\n",
    "#x,y = m(predDf['GeoLon'], predDf['GeoLat'])\n",
    "x = predDf['GeoLon'] \n",
    "y = predDf['GeoLat']\n",
    "serieA = (np.array(predDf['y_pred']) \n",
    "          - predDf['y_pred'].min())/(predDf['y_pred'].max()-predDf['y_pred'].min())\n",
    "# z = plt.cm.jet(serieA)\n",
    "z = np.array(predDf['y_pred'])/1000\n",
    "m.scatter(x=x, y=y, c=z, s=60, alpha=0.5, edgecolors='none')\n",
    "c = m.colorbar(location='right')\n",
    "c.set_label(\"House Value (Thousands of $)\")\n",
    "m.plot()\n",
    "plt.show()"
   ]
  },
  {
   "cell_type": "code",
   "execution_count": 65,
   "metadata": {
    "collapsed": false
   },
   "outputs": [
    {
     "ename": "AttributeError",
     "evalue": "'GradientBoostingRegressor' object has no attribute 'oob_prediction_'",
     "output_type": "error",
     "traceback": [
      "\u001b[0;31m---------------------------------------------------------------------------\u001b[0m",
      "\u001b[0;31mAttributeError\u001b[0m                            Traceback (most recent call last)",
      "\u001b[0;32m<ipython-input-65-337d1d7d2453>\u001b[0m in \u001b[0;36m<module>\u001b[0;34m()\u001b[0m\n\u001b[1;32m      6\u001b[0m \u001b[0mplt\u001b[0m\u001b[0;34m.\u001b[0m\u001b[0mfigure\u001b[0m\u001b[0;34m(\u001b[0m\u001b[0mfigsize\u001b[0m\u001b[0;34m=\u001b[0m\u001b[0;34m(\u001b[0m\u001b[0;36m6\u001b[0m\u001b[0;34m,\u001b[0m\u001b[0;36m6\u001b[0m\u001b[0;34m)\u001b[0m\u001b[0;34m)\u001b[0m\u001b[0;34m\u001b[0m\u001b[0m\n\u001b[1;32m      7\u001b[0m \u001b[0;34m\u001b[0m\u001b[0m\n\u001b[0;32m----> 8\u001b[0;31m \u001b[0mplt\u001b[0m\u001b[0;34m.\u001b[0m\u001b[0mscatter\u001b[0m\u001b[0;34m(\u001b[0m\u001b[0my\u001b[0m\u001b[0;34m,\u001b[0m \u001b[0mmodel\u001b[0m\u001b[0;34m.\u001b[0m\u001b[0moob_prediction_\u001b[0m\u001b[0;34m,\u001b[0m \u001b[0mcolor\u001b[0m\u001b[0;34m=\u001b[0m\u001b[0;34m'blue'\u001b[0m\u001b[0;34m,\u001b[0m \u001b[0ms\u001b[0m\u001b[0;34m=\u001b[0m\u001b[0;36m1\u001b[0m\u001b[0;34m,\u001b[0m \u001b[0medgecolor\u001b[0m\u001b[0;34m=\u001b[0m\u001b[0;34m'none'\u001b[0m\u001b[0;34m)\u001b[0m\u001b[0;34m\u001b[0m\u001b[0m\n\u001b[0m\u001b[1;32m      9\u001b[0m \u001b[0mplt\u001b[0m\u001b[0;34m.\u001b[0m\u001b[0mxlim\u001b[0m\u001b[0;34m(\u001b[0m\u001b[0;36m200000\u001b[0m\u001b[0;34m,\u001b[0m\u001b[0;36m500000\u001b[0m\u001b[0;34m)\u001b[0m\u001b[0;34m\u001b[0m\u001b[0m\n\u001b[1;32m     10\u001b[0m \u001b[0mplt\u001b[0m\u001b[0;34m.\u001b[0m\u001b[0mylim\u001b[0m\u001b[0;34m(\u001b[0m\u001b[0;36m200000\u001b[0m\u001b[0;34m,\u001b[0m\u001b[0;36m500000\u001b[0m\u001b[0;34m)\u001b[0m\u001b[0;34m\u001b[0m\u001b[0m\n",
      "\u001b[0;31mAttributeError\u001b[0m: 'GradientBoostingRegressor' object has no attribute 'oob_prediction_'"
     ]
    },
    {
     "data": {
      "text/plain": [
       "<matplotlib.figure.Figure at 0x10d6bb5f8>"
      ]
     },
     "metadata": {},
     "output_type": "display_data"
    }
   ],
   "source": [
    "### Doesn't work presently...!!! ###\n",
    "\n",
    "## Plot Resulting Prediction vs. Test(Actual)\n",
    "## Isn't necessary for Random Forests, save for test/train data challenges.\n",
    "\n",
    "plt.figure(figsize=(6,6))\n",
    "\n",
    "plt.scatter(y, model.oob_prediction_, color='blue', s=1, edgecolor='none')\n",
    "plt.xlim(200000,500000)\n",
    "plt.ylim(200000,500000)\n",
    "plt.grid(True)\n",
    "plt.ylabel('y_pred, ClosePrice Predicted [USD]')\n",
    "plt.xlabel('y, ClosePrice Actual [USD]')\n",
    "plt.title('Close Price Predicted vs. Actual')\n",
    "plt.axes().set_aspect('equal') # 'datalim'\n",
    "plt.show()"
   ]
  },
  {
   "cell_type": "code",
   "execution_count": null,
   "metadata": {
    "collapsed": false
   },
   "outputs": [],
   "source": [
    "## Error Measurement: Variance between Prediction and Actual ClosePrice\n",
    "## Isn't necessary for Random Forests, save for other algos.\n",
    "#mean_squared_error(y_test, y_pred)"
   ]
  },
  {
   "cell_type": "code",
   "execution_count": null,
   "metadata": {
    "collapsed": true
   },
   "outputs": [],
   "source": [
    "## Debug Tools\n",
    "#df.head(3)\n",
    "#df['DwellingType'].head(20)\n",
    "#df.describe()\n",
    "#df.dtypes\n",
    "#df.shape  #[1]\n",
    "#df['LivingArea'] = df['LivingArea'].astype('float32')\n",
    "#X.head(1)"
   ]
  },
  {
   "cell_type": "code",
   "execution_count": null,
   "metadata": {
    "collapsed": true
   },
   "outputs": [],
   "source": []
  },
  {
   "cell_type": "code",
   "execution_count": null,
   "metadata": {
    "collapsed": false
   },
   "outputs": [],
   "source": [
    "## Evaluate PCA to Determine Pricipal Components\n",
    "from sklearn.decomposition import PCA\n",
    "pca = PCA(n_components=X.shape[1])  # Number of compenent vectors in the training set\n",
    "pca.fit(X)\n",
    "PCA(copy=True, n_components=25, whiten=False)\n",
    "#print(pca.explained_variance_ratio_) \n",
    "# Note: first two contain 98% of the variance"
   ]
  },
  {
   "cell_type": "code",
   "execution_count": null,
   "metadata": {
    "collapsed": false
   },
   "outputs": [],
   "source": [
    "## Plot the PCA spectrum\n",
    "plt.figure(figsize=(6, 6))\n",
    "plt.model()\n",
    "plt.axes([.2, .2, .7, .7])\n",
    "plt.plot(pca.explained_variance_ratio_, linewidth=2) # pca.explained_variance_\n",
    "plt.axis('tight')\n",
    "plt.grid(True)\n",
    "plt.title('Scree Plot')\n",
    "plt.xlabel('Principal Components [n]')\n",
    "plt.ylabel('Percentage of Variance [%]') # for each eigenvector"
   ]
  },
  {
   "cell_type": "markdown",
   "metadata": {},
   "source": [
    "<a id='section9'></a>\n",
    "## What is Next?\n",
    "\n",
    "After model is finalized, train on whole dataset. This isn't necessary with random forestunless a test set was created to compare to other machine learning algorithms.\n",
    "\n",
    "Next, try GBM (Gradient Boosted Machines) and GLM (Generalized Linear Model). GBM Normally beats deep learning and GLM (and random forest with optimization). Use Mean-squared-error to compare regression models.  \n",
    "  \n",
    "Apply a meta-learner specifically a GLM (nnps) to stack/ensemble the algorithms.\n",
    "\n",
    "Review generalized Low-rank model (GLRM), many classification algorithms are derived from the GLRM based on it's configuration.\n",
    "\n",
    "Study of 'PublicRemarks', n-gram collection and vectorization to account for additional variance in ClosePrice.\n",
    "\n",
    "\n",
    "### Missing data:  \n",
    "Source: http://artsci.wustl.edu/~gradconf/conf2015/Papers2015/1_3_Ho.pdf    \n",
    "- Age of home, when was it built/refreshed?  \n",
    "- % of neighbors with bachelors  \n",
    "- % of neighbors with mastors/adv. degree  \n",
    "- quality of neighborhood schools  \n",
    "-/ fireplace  - can be found in the PublicRemarks  \n",
    "\n",
    "### Requested features:\n",
    "- early stopping k-fold cross-validation"
   ]
  },
  {
   "cell_type": "code",
   "execution_count": null,
   "metadata": {
    "collapsed": true
   },
   "outputs": [],
   "source": []
  },
  {
   "cell_type": "code",
   "execution_count": null,
   "metadata": {
    "collapsed": true
   },
   "outputs": [],
   "source": []
  }
 ],
 "metadata": {
  "kernelspec": {
   "display_name": "Python 3",
   "language": "python",
   "name": "python3"
  },
  "language_info": {
   "codemirror_mode": {
    "name": "ipython",
    "version": 3
   },
   "file_extension": ".py",
   "mimetype": "text/x-python",
   "name": "python",
   "nbconvert_exporter": "python",
   "pygments_lexer": "ipython3",
   "version": "3.4.3"
  }
 },
 "nbformat": 4,
 "nbformat_minor": 0
}
