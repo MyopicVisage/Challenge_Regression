{
 "cells": [
  {
   "cell_type": "code",
   "execution_count": 13,
   "metadata": {
    "collapsed": false
   },
   "outputs": [
    {
     "name": "stdout",
     "output_type": "stream",
     "text": [
      "What do you want to do?\n",
      "1. Register\n",
      "2. Login\n",
      "1\n",
      "Create username: user2\n",
      "Create password: password2\n",
      "Creating account...What do you want to do?\n",
      "1. Register\n",
      "2. Login\n",
      "2\n",
      "Insert username: user2\n",
      "Enter password: password2\n",
      "Logging into your account..."
     ]
    }
   ],
   "source": [
    "import sys\n",
    "import time\n",
    "import os\n",
    "def typer(x):\n",
    "    for i in x:\n",
    "        print(i, end='')\n",
    "        time.sleep(0.020)\n",
    "\n",
    "\n",
    "def register():\n",
    "\n",
    "    name = input('Create username: ')+'.txt'\n",
    "    file = open(name, 'a')\n",
    "    i = input(\"Create password: \")\n",
    "    file.write(i+'\\n')\n",
    "    typer(\"Creating account...\")\n",
    "\n",
    "def login():\n",
    "    user = input(\"Insert username: \")\n",
    "    try:\n",
    "        file = open((user+'.txt'), \"r\")  # line altered\n",
    "    except FileNotFoundError:\n",
    "        print(\"Username\\Password incorrect\")\n",
    "        sys.exit()\n",
    "    pas = input(\"Enter password: \")\n",
    "    pas += '\\n'  # line altered\n",
    "    try:\n",
    "        file = open((user+'.txt'), 'r')\n",
    "        if (user+'.txt') == file.name:  # line altered\n",
    "            pasmatch = file.read() # line altered, removed '1'\n",
    "            if pas == pasmatch:\n",
    "                typer(\"Logging into your account...\")\n",
    "    except:\n",
    "        print(\"Username\\Password i incorrect\")\n",
    "        sys.exit()\n",
    "\n",
    "\n",
    "\n",
    "menu = True\n",
    "\n",
    "\n",
    "while menu == True:\n",
    "    menu = True\n",
    "    print(\"What do you want to do?\")\n",
    "    print(\"1. Register\")\n",
    "    print(\"2. Login\")\n",
    "    ii = input(\"\")\n",
    "    if ii == \"1\":\n",
    "        register()\n",
    "    if ii == \"2\":\n",
    "        login()\n",
    "        menu = False"
   ]
  },
  {
   "cell_type": "code",
   "execution_count": null,
   "metadata": {
    "collapsed": false
   },
   "outputs": [],
   "source": [
    "user = 'user4'\n",
    "pas = str(input(\"Enter password: \"))+'\\n'\n",
    "file = open((user+'.txt'), 'r')\n",
    "pasmatch = file.read(file)\n",
    "(pas+'\\n') == pasmatch"
   ]
  },
  {
   "cell_type": "code",
   "execution_count": 2,
   "metadata": {
    "collapsed": false
   },
   "outputs": [
    {
     "name": "stdout",
     "output_type": "stream",
     "text": [
      "Enter password: password7\n",
      "password7\n",
      "\n",
      "works!!!\n"
     ]
    }
   ],
   "source": [
    "pasmatch = 'password7\\n'\n",
    "pas = input(\"Enter password: \")  \n",
    "pas += '\\n'\n",
    "print(pas)\n",
    "if pas == pasmatch:\n",
    "    print('works!!!')"
   ]
  },
  {
   "cell_type": "code",
   "execution_count": null,
   "metadata": {
    "collapsed": true
   },
   "outputs": [],
   "source": []
  }
 ],
 "metadata": {
  "kernelspec": {
   "display_name": "Python 3",
   "language": "python",
   "name": "python3"
  },
  "language_info": {
   "codemirror_mode": {
    "name": "ipython",
    "version": 3
   },
   "file_extension": ".py",
   "mimetype": "text/x-python",
   "name": "python",
   "nbconvert_exporter": "python",
   "pygments_lexer": "ipython3",
   "version": "3.4.3"
  }
 },
 "nbformat": 4,
 "nbformat_minor": 0
}
