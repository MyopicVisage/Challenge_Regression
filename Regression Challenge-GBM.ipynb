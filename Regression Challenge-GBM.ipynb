{
 "cells": [
  {
   "cell_type": "markdown",
   "metadata": {},
   "source": [
    "# Simple housing model\n",
    "\n",
    "Your task is to implement a simple model to predict home prices for a small real estate transactions dataset.\n",
    "\n",
    "Instructions:\n",
    "Predict the close price as of list date given the other attributes.\n",
    "Build separate models with and without ListPrice.\n",
    "Feel free to join the dataset to any other data sources, so long as they are not leaky.\n",
    "\n",
    "Questions:\n",
    "How would you improve your model?"
   ]
  },
  {
   "cell_type": "markdown",
   "metadata": {},
   "source": [
    "## Load Libraries"
   ]
  },
  {
   "cell_type": "code",
   "execution_count": 3,
   "metadata": {
    "collapsed": false
   },
   "outputs": [],
   "source": [
    "%matplotlib inline\n",
    "\n",
    "import numpy as np\n",
    "import pandas as pd\n",
    "import datetime as dt\n",
    "import statistics as stat\n",
    "\n",
    "from sklearn.ensemble import RandomForestRegressor\n",
    "from sklearn.cross_validation import train_test_split\n",
    "from sklearn import preprocessing  # or one-hot-outlier\n",
    "\n",
    "#Regression Specific:\n",
    "#from sklearn.metrics import classification_report\n",
    "#from sklearn.metrics import (brier_score_loss, precision_score, recall_score,\n",
    "#                             f1_score)\n",
    "from sklearn.metrics import mean_squared_error\n",
    "\n",
    "import matplotlib.pyplot as plt"
   ]
  },
  {
   "cell_type": "code",
   "execution_count": 2,
   "metadata": {
    "collapsed": false
   },
   "outputs": [
    {
     "data": {
      "text/html": [
       "<div>\n",
       "<table border=\"1\" class=\"dataframe\">\n",
       "  <thead>\n",
       "    <tr style=\"text-align: right;\">\n",
       "      <th></th>\n",
       "      <th>ListingId</th>\n",
       "      <th>LivingArea</th>\n",
       "      <th>NumBedrooms</th>\n",
       "      <th>NumBaths</th>\n",
       "      <th>Pool</th>\n",
       "      <th>ExteriorStories</th>\n",
       "      <th>ListDate</th>\n",
       "      <th>ListPrice</th>\n",
       "      <th>GeoLat</th>\n",
       "      <th>GeoLon</th>\n",
       "      <th>PublicRemarks</th>\n",
       "      <th>CloseDate</th>\n",
       "      <th>ClosePrice</th>\n",
       "      <th>ListingStatus</th>\n",
       "      <th>DwellingType</th>\n",
       "    </tr>\n",
       "  </thead>\n",
       "  <tbody>\n",
       "    <tr>\n",
       "      <th>0</th>\n",
       "      <td>5077399</td>\n",
       "      <td>3054</td>\n",
       "      <td>4</td>\n",
       "      <td>2.5</td>\n",
       "      <td>Private</td>\n",
       "      <td>1</td>\n",
       "      <td>2014-03-04</td>\n",
       "      <td>675000</td>\n",
       "      <td>33.593239</td>\n",
       "      <td>-111.961056</td>\n",
       "      <td>This property OUTSTANDING offers outdoor livin...</td>\n",
       "      <td>NaN</td>\n",
       "      <td>NaN</td>\n",
       "      <td>Cancelled</td>\n",
       "      <td>Single Family - Detached</td>\n",
       "    </tr>\n",
       "  </tbody>\n",
       "</table>\n",
       "</div>"
      ],
      "text/plain": [
       "   ListingId  LivingArea  NumBedrooms  NumBaths     Pool  ExteriorStories  \\\n",
       "0    5077399        3054            4       2.5  Private                1   \n",
       "\n",
       "     ListDate  ListPrice     GeoLat      GeoLon  \\\n",
       "0  2014-03-04     675000  33.593239 -111.961056   \n",
       "\n",
       "                                       PublicRemarks CloseDate  ClosePrice  \\\n",
       "0  This property OUTSTANDING offers outdoor livin...       NaN         NaN   \n",
       "\n",
       "  ListingStatus              DwellingType  \n",
       "0     Cancelled  Single Family - Detached  "
      ]
     },
     "execution_count": 2,
     "metadata": {},
     "output_type": "execute_result"
    }
   ],
   "source": [
    "## Load Data Set\n",
    "df = pd.read_csv('data_sci_snippet.csv')  # , header=0\n",
    "df.head(1)"
   ]
  },
  {
   "cell_type": "markdown",
   "metadata": {},
   "source": [
    "## Preprocessing\n",
    "\n",
    "### Data Cleaning"
   ]
  },
  {
   "cell_type": "code",
   "execution_count": 3,
   "metadata": {
    "collapsed": false
   },
   "outputs": [],
   "source": [
    "## Conver Dates: str to Datetime\n",
    "df['ListDate'] = pd.to_datetime(df['ListDate'])\n",
    "df['CloseDate'] = pd.to_datetime(df['CloseDate'])\n",
    "## Convert Dates: datetime to ordinals\n",
    "df['CloseDateInt'] = df['CloseDate'].apply(lambda x: x.toordinal())\n",
    "df['ListDateInt'] = df['ListDate'].apply(lambda x: x.toordinal())"
   ]
  },
  {
   "cell_type": "code",
   "execution_count": 4,
   "metadata": {
    "collapsed": false
   },
   "outputs": [
    {
     "name": "stderr",
     "output_type": "stream",
     "text": [
      "-c:2: SettingWithCopyWarning: \n",
      "A value is trying to be set on a copy of a slice from a DataFrame\n",
      "\n",
      "See the the caveats in the documentation: http://pandas.pydata.org/pandas-docs/stable/indexing.html#indexing-view-versus-copy\n"
     ]
    }
   ],
   "source": [
    "## Living Area: If None, replace with median value, ideally from Zip or town \n",
    "df.LivingArea[df.LivingArea.isnull()] = stat.median(df['LivingArea'])\n",
    "#df[df['ListingId'] == 5140687]  # Confirm NaN replaced with median\n",
    "#df[df.LivingArea.isnull()]"
   ]
  },
  {
   "cell_type": "code",
   "execution_count": 5,
   "metadata": {
    "collapsed": false
   },
   "outputs": [
    {
     "name": "stderr",
     "output_type": "stream",
     "text": [
      "-c:2: SettingWithCopyWarning: \n",
      "A value is trying to be set on a copy of a slice from a DataFrame\n",
      "\n",
      "See the the caveats in the documentation: http://pandas.pydata.org/pandas-docs/stable/indexing.html#indexing-view-versus-copy\n",
      "-c:3: SettingWithCopyWarning: \n",
      "A value is trying to be set on a copy of a slice from a DataFrame\n",
      "\n",
      "See the the caveats in the documentation: http://pandas.pydata.org/pandas-docs/stable/indexing.html#indexing-view-versus-copy\n"
     ]
    }
   ],
   "source": [
    "##GeoLat And GeoLon  # Bad Assumption, might get location from 'PublicRemarks'\n",
    "df.GeoLat[df.GeoLat.isnull()] = stat.median(df['GeoLat'])\n",
    "df.GeoLon[df.GeoLon.isnull()] = stat.median(df['GeoLon'])\n",
    "#df.dtypes[df.dtypes.map(lambda x: x=='object')]"
   ]
  },
  {
   "cell_type": "markdown",
   "metadata": {},
   "source": [
    "### Feature Engineering"
   ]
  },
  {
   "cell_type": "code",
   "execution_count": 6,
   "metadata": {
    "collapsed": true
   },
   "outputs": [],
   "source": [
    "## Add TimeToClose  # As time to close -> oo, ClosePrice decreases\n",
    "df['TimeToClose'] = df['CloseDateInt'] - df['ListDateInt']"
   ]
  },
  {
   "cell_type": "code",
   "execution_count": 7,
   "metadata": {
    "collapsed": false
   },
   "outputs": [],
   "source": [
    "## Create ZipCode \n",
    "#df.loc[:,'ZipCode'] = np.empty(len(df))  #, dtype=int\n",
    "#df['ZipCode'] = -1"
   ]
  },
  {
   "cell_type": "code",
   "execution_count": 8,
   "metadata": {
    "collapsed": false,
    "scrolled": true
   },
   "outputs": [],
   "source": [
    "## Add Zip code vector to data set\n",
    "##    b/c long / lat doesn't define neighborhoods or school dist.\n",
    "##    A dummy vector of the zip is better! Maybe.\n",
    "### --> DANGER: this code takes a long time to run! <--\n",
    "\n",
    "#from geopy.geocoders import Nominatim\n",
    "\n",
    "#geolocator = Nominatim()\n",
    "\n",
    "#for n in range(1601,1700+1):   #0,len(df2) #100=35s  500=2m:41s\n",
    "#    try:\n",
    "#        if df.loc[n,'ZipCode'] == -1 or df.loc[n,'ZipCode'] == None:\n",
    "#            df.loc[n,'ZipCode'] = int(geolocator.reverse('{lat}, {long}'.format(lat=str(df.loc[n,'GeoLat']), long=str(df.loc[n,'GeoLon']))).raw['address']['postcode'])\n",
    "#        else:\n",
    "#            pass\n",
    "#    except: df.loc[n,'ZipCode'] = -1\n",
    "\n",
    "\n",
    "#import os; \n",
    "#os.system('say \"Run complete!\"');\n",
    "#os.system('say beep');"
   ]
  },
  {
   "cell_type": "code",
   "execution_count": 9,
   "metadata": {
    "collapsed": false
   },
   "outputs": [],
   "source": [
    "## Debug Tools\n",
    "#df.loc[2511,]\n",
    "#df.loc[11:500,['ZipCode']]\n",
    "#df.loc[1600:1610,['GeoLat','GeoLon','ZipCode']]\n",
    "#df['ZipCode'].value_counts()\n",
    "#df['GeoLat'].value_counts()"
   ]
  },
  {
   "cell_type": "code",
   "execution_count": 10,
   "metadata": {
    "collapsed": false
   },
   "outputs": [
    {
     "data": {
      "text/html": [
       "<div>\n",
       "<table border=\"1\" class=\"dataframe\">\n",
       "  <thead>\n",
       "    <tr style=\"text-align: right;\">\n",
       "      <th></th>\n",
       "      <th>ListingId</th>\n",
       "      <th>LivingArea</th>\n",
       "      <th>NumBedrooms</th>\n",
       "      <th>NumBaths</th>\n",
       "      <th>Pool</th>\n",
       "      <th>ExteriorStories</th>\n",
       "      <th>ListDate</th>\n",
       "      <th>ListPrice</th>\n",
       "      <th>GeoLat</th>\n",
       "      <th>GeoLon</th>\n",
       "      <th>...</th>\n",
       "      <th>Pool_None</th>\n",
       "      <th>Pool_Private</th>\n",
       "      <th>DwellingType_Apartment Style/Flat</th>\n",
       "      <th>DwellingType_Gemini/Twin Home</th>\n",
       "      <th>DwellingType_Loft Style</th>\n",
       "      <th>DwellingType_Mfg/Mobile Housing</th>\n",
       "      <th>DwellingType_Modular/Pre-Fab</th>\n",
       "      <th>DwellingType_Patio Home</th>\n",
       "      <th>DwellingType_Single Family - Detached</th>\n",
       "      <th>DwellingType_Townhouse</th>\n",
       "    </tr>\n",
       "  </thead>\n",
       "  <tbody>\n",
       "    <tr>\n",
       "      <th>0</th>\n",
       "      <td>5077399</td>\n",
       "      <td>3054</td>\n",
       "      <td>4</td>\n",
       "      <td>2.5</td>\n",
       "      <td>Private</td>\n",
       "      <td>1</td>\n",
       "      <td>2014-03-04</td>\n",
       "      <td>675000</td>\n",
       "      <td>33.593239</td>\n",
       "      <td>-111.961056</td>\n",
       "      <td>...</td>\n",
       "      <td>0</td>\n",
       "      <td>1</td>\n",
       "      <td>0</td>\n",
       "      <td>0</td>\n",
       "      <td>0</td>\n",
       "      <td>0</td>\n",
       "      <td>0</td>\n",
       "      <td>0</td>\n",
       "      <td>1</td>\n",
       "      <td>0</td>\n",
       "    </tr>\n",
       "    <tr>\n",
       "      <th>1</th>\n",
       "      <td>5077408</td>\n",
       "      <td>2230</td>\n",
       "      <td>4</td>\n",
       "      <td>2.0</td>\n",
       "      <td>Private</td>\n",
       "      <td>1</td>\n",
       "      <td>2014-03-01</td>\n",
       "      <td>475000</td>\n",
       "      <td>33.650984</td>\n",
       "      <td>-111.963151</td>\n",
       "      <td>...</td>\n",
       "      <td>0</td>\n",
       "      <td>1</td>\n",
       "      <td>0</td>\n",
       "      <td>0</td>\n",
       "      <td>0</td>\n",
       "      <td>0</td>\n",
       "      <td>0</td>\n",
       "      <td>0</td>\n",
       "      <td>1</td>\n",
       "      <td>0</td>\n",
       "    </tr>\n",
       "    <tr>\n",
       "      <th>2</th>\n",
       "      <td>5077486</td>\n",
       "      <td>1601</td>\n",
       "      <td>3</td>\n",
       "      <td>2.0</td>\n",
       "      <td>Private</td>\n",
       "      <td>1</td>\n",
       "      <td>2014-03-01</td>\n",
       "      <td>279900</td>\n",
       "      <td>33.692122</td>\n",
       "      <td>-112.038019</td>\n",
       "      <td>...</td>\n",
       "      <td>0</td>\n",
       "      <td>1</td>\n",
       "      <td>0</td>\n",
       "      <td>0</td>\n",
       "      <td>0</td>\n",
       "      <td>0</td>\n",
       "      <td>0</td>\n",
       "      <td>0</td>\n",
       "      <td>1</td>\n",
       "      <td>0</td>\n",
       "    </tr>\n",
       "  </tbody>\n",
       "</table>\n",
       "<p>3 rows × 30 columns</p>\n",
       "</div>"
      ],
      "text/plain": [
       "   ListingId  LivingArea  NumBedrooms  NumBaths     Pool  ExteriorStories  \\\n",
       "0    5077399        3054            4       2.5  Private                1   \n",
       "1    5077408        2230            4       2.0  Private                1   \n",
       "2    5077486        1601            3       2.0  Private                1   \n",
       "\n",
       "    ListDate  ListPrice     GeoLat      GeoLon           ...            \\\n",
       "0 2014-03-04     675000  33.593239 -111.961056           ...             \n",
       "1 2014-03-01     475000  33.650984 -111.963151           ...             \n",
       "2 2014-03-01     279900  33.692122 -112.038019           ...             \n",
       "\n",
       "  Pool_None Pool_Private  DwellingType_Apartment Style/Flat  \\\n",
       "0         0            1                                  0   \n",
       "1         0            1                                  0   \n",
       "2         0            1                                  0   \n",
       "\n",
       "  DwellingType_Gemini/Twin Home DwellingType_Loft Style  \\\n",
       "0                             0                       0   \n",
       "1                             0                       0   \n",
       "2                             0                       0   \n",
       "\n",
       "   DwellingType_Mfg/Mobile Housing  DwellingType_Modular/Pre-Fab  \\\n",
       "0                                0                             0   \n",
       "1                                0                             0   \n",
       "2                                0                             0   \n",
       "\n",
       "   DwellingType_Patio Home  DwellingType_Single Family - Detached  \\\n",
       "0                        0                                      1   \n",
       "1                        0                                      1   \n",
       "2                        0                                      1   \n",
       "\n",
       "   DwellingType_Townhouse  \n",
       "0                       0  \n",
       "1                       0  \n",
       "2                       0  \n",
       "\n",
       "[3 rows x 30 columns]"
      ]
     },
     "execution_count": 10,
     "metadata": {},
     "output_type": "execute_result"
    }
   ],
   "source": [
    "## Convert Categorical vectors to dummy (1-hot encoded) binary vectors \n",
    "### --> Proven less effective than a 0-n encoding based on utility\n",
    "###        or avg. valuation.\n",
    "\n",
    "def gen_dummies(dfColumn,columnName):\n",
    "    data = pd.DataFrame({columnName: dfColumn})\n",
    "    res = pd.get_dummies(data)\n",
    "    return res\n",
    "\n",
    "# Generate Dummy Vectors\n",
    "poolDummies = gen_dummies(df['Pool'], 'Pool')  #list(df.columns.values)[4]\n",
    "dwellingTypeDummies = gen_dummies(df['DwellingType'], 'DwellingType')  #list(df.columns.values)[14]\n",
    "\n",
    "# Concatenate with df\n",
    "df = pd.concat([df, poolDummies], axis=1, join_axes=[df.index])\n",
    "df = pd.concat([df, dwellingTypeDummies], axis=1, join_axes=[df.index])\n",
    "df.head(3)"
   ]
  },
  {
   "cell_type": "code",
   "execution_count": 11,
   "metadata": {
    "collapsed": false
   },
   "outputs": [],
   "source": [
    "## Convert Categorical Data to a 'hot-encoding'\n",
    "# Note that the magnitude that will be assessed is based on the coder's \n",
    "# belief in the relative utility/value of the option.\n",
    "\n",
    "#Ex. X[:, 0] = LabelEncoder().fit_transform(X[:,0])\n",
    "\n",
    "# First 'Pool' Data Set (0-3 Hot-encoding)\n",
    "lePool = preprocessing.LabelEncoder()\n",
    "#lePool.fit(df['Pool'])\n",
    "lePool.classes_ = ['None', \n",
    "                   'Community',\n",
    "                   'Private', \n",
    "                   'Both Private & Community'] # Question this assumption!\n",
    "#list(lePool.classes_)\n",
    "df['PoolOrd'] = np.empty(len(df), dtype=int)\n",
    "df['PoolOrd'] = lePool.transform(df['Pool'])"
   ]
  },
  {
   "cell_type": "code",
   "execution_count": 12,
   "metadata": {
    "collapsed": false
   },
   "outputs": [],
   "source": [
    "# Second DwellingType (0-7 Hot-encoding)\n",
    "leDT = preprocessing.LabelEncoder()\n",
    "#leDT.fit(df['DwellingType'])\n",
    "leDT.classes_ = ['Modular/Pre-Fab',\n",
    "                 'Mfg/Mobile Housing',\n",
    "                 'Gemini/Twin Home',\n",
    "                 'Apartment Style/Flat',\n",
    "                 'Loft Style',\n",
    "                 'Townhouse',\n",
    "                 'Patio Home',\n",
    "                 'Single Family - Detached']\n",
    "#list(leDT.classes_)\n",
    "df['DwellingTypeOrd'] = np.empty(len(df), dtype=int)\n",
    "df['DwellingTypeOrd'] = leDT.transform(df['DwellingType'])"
   ]
  },
  {
   "cell_type": "code",
   "execution_count": 13,
   "metadata": {
    "collapsed": false
   },
   "outputs": [
    {
     "data": {
      "text/html": [
       "<div>\n",
       "<table border=\"1\" class=\"dataframe\">\n",
       "  <thead>\n",
       "    <tr style=\"text-align: right;\">\n",
       "      <th></th>\n",
       "      <th>ListingId</th>\n",
       "      <th>LivingArea</th>\n",
       "      <th>NumBedrooms</th>\n",
       "      <th>NumBaths</th>\n",
       "      <th>Pool</th>\n",
       "      <th>ExteriorStories</th>\n",
       "      <th>ListDate</th>\n",
       "      <th>ListPrice</th>\n",
       "      <th>GeoLat</th>\n",
       "      <th>GeoLon</th>\n",
       "      <th>...</th>\n",
       "      <th>DwellingType_Apartment Style/Flat</th>\n",
       "      <th>DwellingType_Gemini/Twin Home</th>\n",
       "      <th>DwellingType_Loft Style</th>\n",
       "      <th>DwellingType_Mfg/Mobile Housing</th>\n",
       "      <th>DwellingType_Modular/Pre-Fab</th>\n",
       "      <th>DwellingType_Patio Home</th>\n",
       "      <th>DwellingType_Single Family - Detached</th>\n",
       "      <th>DwellingType_Townhouse</th>\n",
       "      <th>PoolOrd</th>\n",
       "      <th>DwellingTypeOrd</th>\n",
       "    </tr>\n",
       "  </thead>\n",
       "  <tbody>\n",
       "    <tr>\n",
       "      <th>1</th>\n",
       "      <td>5077408</td>\n",
       "      <td>2230</td>\n",
       "      <td>4</td>\n",
       "      <td>2</td>\n",
       "      <td>Private</td>\n",
       "      <td>1</td>\n",
       "      <td>2014-03-01</td>\n",
       "      <td>475000</td>\n",
       "      <td>33.650984</td>\n",
       "      <td>-111.963151</td>\n",
       "      <td>...</td>\n",
       "      <td>0</td>\n",
       "      <td>0</td>\n",
       "      <td>0</td>\n",
       "      <td>0</td>\n",
       "      <td>0</td>\n",
       "      <td>0</td>\n",
       "      <td>1</td>\n",
       "      <td>0</td>\n",
       "      <td>2</td>\n",
       "      <td>7</td>\n",
       "    </tr>\n",
       "  </tbody>\n",
       "</table>\n",
       "<p>1 rows × 32 columns</p>\n",
       "</div>"
      ],
      "text/plain": [
       "   ListingId  LivingArea  NumBedrooms  NumBaths     Pool  ExteriorStories  \\\n",
       "1    5077408        2230            4         2  Private                1   \n",
       "\n",
       "    ListDate  ListPrice     GeoLat      GeoLon       ...         \\\n",
       "1 2014-03-01     475000  33.650984 -111.963151       ...          \n",
       "\n",
       "  DwellingType_Apartment Style/Flat DwellingType_Gemini/Twin Home  \\\n",
       "1                                 0                             0   \n",
       "\n",
       "   DwellingType_Loft Style DwellingType_Mfg/Mobile Housing  \\\n",
       "1                        0                               0   \n",
       "\n",
       "  DwellingType_Modular/Pre-Fab  DwellingType_Patio Home  \\\n",
       "1                            0                        0   \n",
       "\n",
       "   DwellingType_Single Family - Detached  DwellingType_Townhouse  PoolOrd  \\\n",
       "1                                      1                       0        2   \n",
       "\n",
       "   DwellingTypeOrd  \n",
       "1                7  \n",
       "\n",
       "[1 rows x 32 columns]"
      ]
     },
     "execution_count": 13,
     "metadata": {},
     "output_type": "execute_result"
    }
   ],
   "source": [
    "## Clean Dataset for learning on ClosePrice <--Last pre-processing step!\n",
    "# Exclude Null ClosePrice Data, because it doesn't inform the ML algo\n",
    "df = df[df.ClosePrice.notnull()]\n",
    "df.head(1)"
   ]
  },
  {
   "cell_type": "code",
   "execution_count": 14,
   "metadata": {
    "collapsed": false
   },
   "outputs": [
    {
     "data": {
      "text/plain": [
       "(37934, 25)"
      ]
     },
     "execution_count": 14,
     "metadata": {},
     "output_type": "execute_result"
    }
   ],
   "source": [
    "## Generate Training and Test Data Set (X , y)\n",
    "# Training Variables\n",
    "X = df.drop(['ListDate',\n",
    "             'PublicRemarks',\n",
    "             'CloseDate',\n",
    "             'ClosePrice',\n",
    "             'ListingStatus',\n",
    "             'Pool',\n",
    "             'DwellingType'], axis=1)  #'ZipCode'\n",
    "headers = X.dtypes.index\n",
    "\n",
    "X.shape\n",
    "#X.describe()"
   ]
  },
  {
   "cell_type": "code",
   "execution_count": 15,
   "metadata": {
    "collapsed": false
   },
   "outputs": [
    {
     "data": {
      "text/plain": [
       "(37934,)"
      ]
     },
     "execution_count": 15,
     "metadata": {},
     "output_type": "execute_result"
    }
   ],
   "source": [
    "# Prediction Variable == Close Price \n",
    "y = df['ClosePrice']\n",
    "y.shape"
   ]
  },
  {
   "cell_type": "code",
   "execution_count": 81,
   "metadata": {
    "collapsed": false
   },
   "outputs": [],
   "source": [
    "## Debug Tools\n",
    "#df.head(3)\n",
    "#df['DwellingType'].head(20)\n",
    "#df.describe()\n",
    "#df.dtypes\n",
    "#df.shape  #[1]\n",
    "#df['LivingArea'] = df['LivingArea'].astype('float32')\n",
    "#X.head(1)"
   ]
  },
  {
   "cell_type": "markdown",
   "metadata": {},
   "source": [
    "## Feature Reduction: Min(MSE)\n",
    "### OR Is runtime a conern? Drop features!"
   ]
  },
  {
   "cell_type": "code",
   "execution_count": 82,
   "metadata": {
    "collapsed": false
   },
   "outputs": [
    {
     "name": "stderr",
     "output_type": "stream",
     "text": [
      "//anaconda/lib/python3.4/site-packages/matplotlib/collections.py:590: FutureWarning: elementwise comparison failed; returning scalar instead, but in the future will perform elementwise comparison\n",
      "  if self._edgecolors == str('face'):\n"
     ]
    },
    {
     "data": {
      "image/png": "[encoded data removed]",
      "text/plain": [
       "<matplotlib.figure.Figure at 0x103f4f470>"
      ]
     },
     "metadata": {},
     "output_type": "display_data"
    },
    {
     "name": "stdout",
     "output_type": "stream",
     "text": [
      "Feature ranking:\n",
      "\tFeature\tImportance\tHeader\n",
      "    1.\t  5\t(0.134886)\tListPrice\n",
      "    2.\t  7\t(0.110343)\tGeoLon\n",
      "    3.\t  1\t(0.109959)\tLivingArea\n",
      "    4.\t  6\t(0.109884)\tGeoLat\n",
      "    5.\t  0\t(0.108460)\tListingId\n",
      "    6.\t  10\t(0.107353)\tTimeToClose\n",
      "    7.\t  8\t(0.105812)\tCloseDateInt\n",
      "    8.\t  9\t(0.103307)\tListDateInt\n",
      "    9.\t  3\t(0.046668)\tNumBaths\n",
      "    10.\t  2\t(0.037733)\tNumBedrooms\n",
      "    11.\t  4\t(0.015611)\tExteriorStories\n",
      "    12.\t  23\t(0.004628)\tPoolOrd\n",
      "    13.\t  24\t(0.000817)\tDwellingTypeOrd\n",
      "    14.\t  22\t(0.000531)\tDwellingType_Townhouse\n",
      "    15.\t  14\t(0.000513)\tPool_Private\n",
      "    16.\t  21\t(0.000486)\tDwellingType_Single Family - Detached\n",
      "    17.\t  11\t(0.000480)\tPool_Both Private & Community\n",
      "    18.\t  20\t(0.000473)\tDwellingType_Patio Home\n",
      "    19.\t  13\t(0.000458)\tPool_None\n",
      "    20.\t  12\t(0.000393)\tPool_Community\n",
      "    21.\t  15\t(0.000355)\tDwellingType_Apartment Style/Flat\n",
      "    22.\t  18\t(0.000327)\tDwellingType_Mfg/Mobile Housing\n",
      "    23.\t  16\t(0.000303)\tDwellingType_Gemini/Twin Home\n",
      "    24.\t  17\t(0.000114)\tDwellingType_Loft Style\n",
      "    25.\t  19\t(0.000107)\tDwellingType_Modular/Pre-Fab\n"
     ]
    }
   ],
   "source": [
    "from sklearn.datasets import make_classification\n",
    "from sklearn.ensemble import ExtraTreesClassifier\n",
    "\n",
    "# Build a forest and compute the feature importances\n",
    "forest = ExtraTreesClassifier(n_estimators=10,  # 250 by default\n",
    "                              random_state=0)\n",
    "\n",
    "forest.fit(X, y)\n",
    "importances = forest.feature_importances_\n",
    "std = np.std([tree.feature_importances_ for tree in forest.estimators_],\n",
    "             axis=0)\n",
    "indices = np.argsort(importances)[::-1]\n",
    "\n",
    "# Plot the feature importances of the forest\n",
    "plt.figure()\n",
    "plt.title(\"Feature importances\")\n",
    "plt.bar(range(X.shape[1]), importances[indices],\n",
    "       color=\"r\", yerr=std[indices], align=\"center\")\n",
    "plt.xticks(range(X.shape[1]), indices)\n",
    "plt.xlim([-1, X.shape[1]])\n",
    "plt.show()\n",
    "\n",
    "# Print the feature ranking\n",
    "print(\"Feature ranking:\")\n",
    "print(\"\\tFeature\\tImportance\\tHeader\")\n",
    "\n",
    "for f in range(X.shape[1]):\n",
    "    print(\"    %d.\\t  %d\\t(%f)\\t%s\" % (f+1, indices[f], importances[indices[f]], headers[indices[f]]))"
   ]
  },
  {
   "cell_type": "code",
   "execution_count": 64,
   "metadata": {
    "collapsed": false
   },
   "outputs": [
    {
     "name": "stdout",
     "output_type": "stream",
     "text": [
      "[]\n"
     ]
    }
   ],
   "source": [
    "## Wait Until Feature Reduction Calculation completes!!!\n",
    "## If you see the feature order change you need more trees!!!\n",
    "\n",
    "## Drop features and see how mean-squared-error responds \n",
    "cutoff = 0.016  # Importance \n",
    "cols = []\n",
    "cols = [i for i in indices if importances[i] < cutoff]\n",
    "if len(cols) == 0:\n",
    "    pass\n",
    "else: X = X.drop(X.columns[cols],axis=1)\n",
    "headers = X.dtypes.index\n",
    "print(cols)\n",
    "cols = []"
   ]
  },
  {
   "cell_type": "code",
   "execution_count": null,
   "metadata": {
    "collapsed": false
   },
   "outputs": [],
   "source": [
    "## Repeat Feature Reduction? If not, continue. "
   ]
  },
  {
   "cell_type": "code",
   "execution_count": null,
   "metadata": {
    "collapsed": false
   },
   "outputs": [],
   "source": [
    "## Debug\n",
    "#headers\n",
    "#X.head(1)\n"
   ]
  },
  {
   "cell_type": "markdown",
   "metadata": {},
   "source": [
    "## Regression Model: Random Forest"
   ]
  },
  {
   "cell_type": "code",
   "execution_count": 16,
   "metadata": {
    "collapsed": false
   },
   "outputs": [],
   "source": [
    "## Test and Training Sets\n",
    "## Isn't necessary for Random Forests, save for other algos.\n",
    "#X_train, X_test, y_train, y_test = train_test_split(X, y, \n",
    "#                                                    test_size=0.33,\n",
    "#                                                    random_state=0)"
   ]
  },
  {
   "cell_type": "code",
   "execution_count": 16,
   "metadata": {
    "collapsed": false
   },
   "outputs": [
    {
     "name": "stdout",
     "output_type": "stream",
     "text": [
      "0.997755968809\n"
     ]
    }
   ],
   "source": [
    "## Train Random Forest\n",
    "rgr = RandomForestRegressor(n_estimators=100, \n",
    "                            max_features=None,\n",
    "                            criterion='mse',\n",
    "                            bootstrap=True,\n",
    "                            oob_score=True,\n",
    "                            n_jobs=-1,  # Run on all available cores\n",
    "                            random_state=0)\n",
    "y_pred = rgr.fit(X,y).predict(X)\n",
    "\n",
    "# Attributes\n",
    "score = rgr.score(X, y)\n",
    "print(score) # R^2, coefficient of determination of the prediction"
   ]
  },
  {
   "cell_type": "markdown",
   "metadata": {},
   "source": [
    "## Benchmarks:\n",
    "\n",
    "0.997755968809 -- All Features  \n",
    "0.997678529408 -- No Dummies  \n",
    "0.997587756988 -- No hot-encoding  \n"
   ]
  },
  {
   "cell_type": "code",
   "execution_count": 21,
   "metadata": {
    "collapsed": false
   },
   "outputs": [],
   "source": [
    "## Plot Resulting Prediction vs. Test(Actual)\n",
    "## Isn't necessary for Random Forests, save for test/train data challenges.\n",
    "\n",
    "#plt.figure(figsize=(6,6))\n",
    "\n",
    "#plt.scatter(y_test, y_pred, color='blue', s=5, edgecolor='none')\n",
    "#plt.xlim(200000,550000)\n",
    "#plt.ylim(200000,550000)\n",
    "#plt.grid(True)\n",
    "#plt.ylabel('y_fit, ClosePrice [USD]')\n",
    "#plt.xlabel('y_test, ClosePrice [USD]')\n",
    "#plt.title('y_pred vs. y_test')\n",
    "#plt.axes().set_aspect('equal') # 'datalim'\n",
    "#plt.show()"
   ]
  },
  {
   "cell_type": "markdown",
   "metadata": {},
   "source": [
    "## Performance of Regression(s)"
   ]
  },
  {
   "cell_type": "code",
   "execution_count": 22,
   "metadata": {
    "collapsed": false
   },
   "outputs": [],
   "source": [
    "## Error Measurement: Variance between Prediction and Actual ClosePrice\n",
    "## Isn't necessary for Random Forests, save for other algos.\n",
    "#mean_squared_error(y_test, y_pred)"
   ]
  },
  {
   "cell_type": "markdown",
   "metadata": {},
   "source": [
    "### Improvements to Model are reductions in Mean-Squared-Error\n",
    "\n",
    "Factor Reduction:\n",
    "   \n",
    "    mse = 424,396,940 -- Hot-Encoding and Dummy variables  \n",
    "          438,694,298 -- Just Hot-Encoded 0-n  \n",
    "          474,807,597 -- .003 # Just PoolOrd\n",
    "          437,460,043 -- .010 # remove PoolOrd\n",
    "     -->  407,818,603 -- .025 # remove ExteriorStories <-- Best Model!\n",
    "          463,484,751 -- .025 # Remove NumBedrooms\n",
    "          418,513,664 -- .06  # Remove NumBaths\n",
    "          457,169,976 -- .112 # Drop ListDateInt  \n",
    "          477,384,686 --  # Drop CloseDateInt  \n",
    "          426,226,815 -- .122 # Dropped ListingId,TimeToClose,CloseDateInt,ListDateInt  \n",
    "          693,571,986 -- ???? # Just ListPrice  \n",
    "          \n",
    "Study of 'PublicRemarks', n-gram collection and vectorization:\n",
    "    mse = ???  "
   ]
  },
  {
   "cell_type": "code",
   "execution_count": 23,
   "metadata": {
    "collapsed": false
   },
   "outputs": [
    {
     "data": {
      "text/plain": [
       "PCA(copy=True, n_components=25, whiten=False)"
      ]
     },
     "execution_count": 23,
     "metadata": {},
     "output_type": "execute_result"
    }
   ],
   "source": [
    "## Evaluate PCA to Determine Pricipal Components\n",
    "from sklearn.decomposition import PCA\n",
    "pca = PCA(n_components=25)  # Number of compenent vectors in the training set\n",
    "pca.fit(X)\n",
    "PCA(copy=True, n_components=25, whiten=False)\n",
    "#print(pca.explained_variance_ratio_) \n",
    "# Note: first two contain 98% of the variance"
   ]
  },
  {
   "cell_type": "code",
   "execution_count": 24,
   "metadata": {
    "collapsed": false
   },
   "outputs": [
    {
     "data": {
      "text/plain": [
       "<matplotlib.text.Text at 0x1087fe978>"
      ]
     },
     "execution_count": 24,
     "metadata": {},
     "output_type": "execute_result"
    },
    {
     "data": {
      "image/png": "[encoded data removed]",
      "text/plain": [
       "<matplotlib.figure.Figure at 0x1087bfda0>"
      ]
     },
     "metadata": {},
     "output_type": "display_data"
    }
   ],
   "source": [
    "## Plot the PCA spectrum\n",
    "plt.figure(figsize=(6, 6))\n",
    "plt.clf()\n",
    "plt.axes([.2, .2, .7, .7])\n",
    "plt.plot(pca.explained_variance_ratio_, linewidth=2) # pca.explained_variance_\n",
    "plt.axis('tight')\n",
    "plt.grid(True)\n",
    "plt.title('Scree Plot')\n",
    "plt.xlabel('Principal Components [n]')\n",
    "plt.ylabel('Percentage of Variance [%]') # for each eigenvector"
   ]
  },
  {
   "cell_type": "markdown",
   "metadata": {},
   "source": [
    "## What is Next?\n",
    "\n",
    "After model is finalized, test on whole dataset.\n",
    "\n",
    "Try GBM (Gradient Boosted Machines) next and GLM (Generalized Linear Model). GBM Normally beats deep learning and GLM (and random forest with optimization). Use Mean-squared-error to compare regression models.  \n",
    "Apply a meta-learner specifically a GLM (nnps) to stack/ensemble the algorithms.\n",
    "\n",
    "Impute missing entries...\n",
    "\n",
    "Review generalized Low-rank model (GLRM).\n",
    "\n",
    "Specify a custom loss function .. i.e. \"holst\" (quadratic and linear)\n",
    "\n",
    "\n",
    "### Missing data:  \n",
    "Source: http://artsci.wustl.edu/~gradconf/conf2015/Papers2015/1_3_Ho.pdf    \n",
    "Age of home  \n",
    "% of neighbors with bachelors  \n",
    "% of neighbors with mastors/adv. degree  \n",
    "quality of neighborhood schools  \n",
    "fireplace  \n",
    "\n",
    "### Requested features:\n",
    "early stopping\n",
    "k-fold cross-validation"
   ]
  },
  {
   "cell_type": "code",
   "execution_count": 17,
   "metadata": {
    "collapsed": true
   },
   "outputs": [],
   "source": [
    "## Memoizer - support of slow calculating functions\n",
    "def memoize(obj):\n",
    "    \"\"\"General-purpose cache for classes, methods, and functions.\"\"\"\n",
    "    cache = obj.cache = {}\n",
    "\n",
    "    def memoizer(*args, **kwargs):\n",
    "        \"\"\"Do cache lookups and populate the cache in the case of misses.\"\"\"\n",
    "        key = args[0] if len(args) is 1 else args\n",
    "        if key not in cache:\n",
    "            cache[key] = obj(*args, **kwargs)\n",
    "        return cache[key]\n",
    "\n",
    "    # Make the memoizer func masquerade as the object we are memoizing.\n",
    "    # This makes class attributes and static methods behave as expected.\n",
    "    for k, v in obj.__dict__.items():\n",
    "        memoizer.__dict__[k] = v.__func__ if type(v) is staticmethod else v\n",
    "    return memoizer"
   ]
  },
  {
   "cell_type": "markdown",
   "metadata": {},
   "source": [
    "## Regression Model: Gradient Boosting Regressor"
   ]
  },
  {
   "cell_type": "code",
   "execution_count": 20,
   "metadata": {
    "collapsed": false
   },
   "outputs": [
    {
     "data": {
      "text/plain": [
       "{'learning_rate': 0.1,\n",
       " 'max_depth': 4,\n",
       " 'max_features': 1.0,\n",
       " 'min_samples_leaf': 9}"
      ]
     },
     "execution_count": 20,
     "metadata": {},
     "output_type": "execute_result"
    }
   ],
   "source": [
    "## Gradient Boosting Regressor\n",
    "from sklearn.ensemble import GradientBoostingRegressor\n",
    "\n",
    "## Train Gradient Boosting Regressor\n",
    "#Ex.\n",
    "#gbr = GradientBoostingRegressor(loss=‘huber’,\n",
    "#                                learning_rate=0.1,\n",
    "#                                n_estimators=3000, #as high as possible\n",
    "#                                max_depth=3,\n",
    "#                                max_features=None,\n",
    "#                                criterion='mse',\n",
    "#                                n_jobs=-1,\n",
    "#                                random_state=0)\n",
    "\n",
    "## Hyperparameter Grid Search\n",
    "from sklearn.grid_search import GridSearchCV\n",
    "param_grid = {'learning_rate': [.1, 0.05, 0.02, 0.01],\n",
    "              'max_depth': [4,6],\n",
    "              'min_samples_leaf': [3, 5, 9, 17],\n",
    "              'max_features': [1.0, 0.3, 0.1]}\n",
    "gbr = GradientBoostingRegressor(n_estimators=100)\n",
    "gs_cv = GridSearchCV(gbr, param_grid).fit(X,y)\n",
    "# Best hyperparameter setting\n",
    "gs_cv.best_params_\n",
    "\n",
    "# Next, set 'n_estimators' even higher and tune 'learning_rate'                \n"
   ]
  },
  {
   "cell_type": "code",
   "execution_count": null,
   "metadata": {
    "collapsed": true
   },
   "outputs": [],
   "source": [
    "########### Dump #########\n",
    "## CV example:\n",
    "\n",
    "## Random Forest with k-fold Cross-Validation\n",
    "start_time = time.time()\n",
    "\n",
    "regressor = RandomForestRegressor(n_estimators=100, \n",
    "                            max_features=None,\n",
    "                            criterion='mse',\n",
    "                            bootstrap=True,  # 'with replacement'\n",
    "                            oob_score=True,\n",
    "                            n_jobs=-1,  # Run on all available cores\n",
    "                            random_state=0)\n",
    "\n",
    "kf_total = cross_validation.KFold(len(X), \n",
    "                                  n_folds=10, \n",
    "                                  indices=True, \n",
    "                                  shuffle=True, \n",
    "                                  random_state=0)\n",
    "cross_val_score = cross_validation.cross_val_score(regressor, X, y, cv=kf_total, n_jobs=1)\n",
    "\n",
    "\n",
    "stop_time = time.time()\n",
    "print(\"example run in %.2fs\" % (stop_time - start_time))\n",
    "\n",
    "\n",
    "## Attributes of RandomForest Cross-Validation\n",
    "# Cross_val-score == Deviance (r^2 error)\n",
    "Print(cross_val_score)\n",
    "#score = regressor.score(X_validation, y_validation)\n",
    "print(score) # R^2, coefficient of determination of the prediction\n",
    "\n",
    "#out_of_bag_prediction_for_y = regressor.oob_prediction_\n",
    "#print(mean_squared_error(out_of_bag_prediction_for_y, y_test))"
   ]
  },
  {
   "cell_type": "code",
   "execution_count": null,
   "metadata": {
    "collapsed": true
   },
   "outputs": [],
   "source": [
    "## Attributes\n",
    "#score = rgr.train_score_(X, y)  #Array of deviance (loss) of model at iteration i.\n",
    "#print(score) # R^2, coefficient of determination of the prediction"
   ]
  },
  {
   "cell_type": "code",
   "execution_count": null,
   "metadata": {
    "collapsed": true
   },
   "outputs": [],
   "source": [
    "## Plot Feature Importance\n",
    "gbr.feature_importance_  # array\n",
    "\n",
    "#plot(features,relative importance)"
   ]
  },
  {
   "cell_type": "code",
   "execution_count": null,
   "metadata": {
    "collapsed": true
   },
   "outputs": [],
   "source": [
    "## Plot Test and Train loss (error) vs. n_estimators"
   ]
  },
  {
   "cell_type": "code",
   "execution_count": null,
   "metadata": {
    "collapsed": true
   },
   "outputs": [],
   "source": []
  },
  {
   "cell_type": "code",
   "execution_count": 4,
   "metadata": {
    "collapsed": false
   },
   "outputs": [
    {
     "name": "stdout",
     "output_type": "stream",
     "text": [
      "MSE: 6.6424\n"
     ]
    },
    {
     "data": {
      "image/png": "[encoded data removed]",
      "text/plain": [
       "<matplotlib.figure.Figure at 0x106f7bdd8>"
      ]
     },
     "metadata": {},
     "output_type": "display_data"
    }
   ],
   "source": [
    "#print(__doc__)\n",
    "\n",
    "# Author: Peter Prettenhofer <peter.prettenhofer@gmail.com>\n",
    "#\n",
    "# License: BSD 3 clause\n",
    "\n",
    "import numpy as np\n",
    "import matplotlib.pyplot as plt\n",
    "\n",
    "from sklearn import ensemble\n",
    "from sklearn import datasets\n",
    "from sklearn.utils import shuffle\n",
    "from sklearn.metrics import mean_squared_error\n",
    "\n",
    "###############################################################################\n",
    "# Load data\n",
    "boston = datasets.load_boston()\n",
    "X, y = shuffle(boston.data, boston.target, random_state=13)\n",
    "X = X.astype(np.float32)\n",
    "offset = int(X.shape[0] * 0.9)\n",
    "X_train, y_train = X[:offset], y[:offset]\n",
    "X_test, y_test = X[offset:], y[offset:]\n",
    "\n",
    "###############################################################################\n",
    "# Fit regression model\n",
    "params = {'n_estimators': 500, 'max_depth': 4, 'min_samples_split': 1,\n",
    "          'learning_rate': 0.01, 'loss': 'ls'}\n",
    "clf = ensemble.GradientBoostingRegressor(**params)\n",
    "\n",
    "clf.fit(X_train, y_train)\n",
    "mse = mean_squared_error(y_test, clf.predict(X_test))\n",
    "print(\"MSE: %.4f\" % mse)\n",
    "\n",
    "###############################################################################\n",
    "# Plot training deviance\n",
    "\n",
    "# compute test set deviance\n",
    "test_score = np.zeros((params['n_estimators'],), dtype=np.float64)\n",
    "\n",
    "for i, y_pred in enumerate(clf.staged_predict(X_test)):\n",
    "    test_score[i] = clf.loss_(y_test, y_pred)\n",
    "\n",
    "plt.figure(figsize=(12, 6))\n",
    "plt.subplot(1, 2, 1)\n",
    "plt.title('Deviance')\n",
    "plt.plot(np.arange(params['n_estimators']) + 1, clf.train_score_, 'b-',\n",
    "         label='Training Set Deviance')\n",
    "plt.plot(np.arange(params['n_estimators']) + 1, test_score, 'r-',\n",
    "         label='Test Set Deviance')\n",
    "plt.legend(loc='upper right')\n",
    "plt.xlabel('Boosting Iterations')\n",
    "plt.ylabel('Deviance')\n",
    "\n",
    "###############################################################################\n",
    "# Plot feature importance\n",
    "feature_importance = clf.feature_importances_\n",
    "# make importances relative to max importance\n",
    "feature_importance = 100.0 * (feature_importance / feature_importance.max())\n",
    "sorted_idx = np.argsort(feature_importance)\n",
    "pos = np.arange(sorted_idx.shape[0]) + .5\n",
    "plt.subplot(1, 2, 2)\n",
    "plt.barh(pos, feature_importance[sorted_idx], align='center')\n",
    "plt.yticks(pos, boston.feature_names[sorted_idx])\n",
    "plt.xlabel('Relative Importance')\n",
    "plt.title('Variable Importance')\n",
    "plt.show()"
   ]
  },
  {
   "cell_type": "code",
   "execution_count": null,
   "metadata": {
    "collapsed": true
   },
   "outputs": [],
   "source": []
  }
 ],
 "metadata": {
  "kernelspec": {
   "display_name": "Python 3",
   "language": "python",
   "name": "python3"
  },
  "language_info": {
   "codemirror_mode": {
    "name": "ipython",
    "version": 3
   },
   "file_extension": ".py",
   "mimetype": "text/x-python",
   "name": "python",
   "nbconvert_exporter": "python",
   "pygments_lexer": "ipython3",
   "version": "3.4.3"
  }
 },
 "nbformat": 4,
 "nbformat_minor": 0
}
